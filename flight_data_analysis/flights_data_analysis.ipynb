{
 "cells": [
  {
   "cell_type": "code",
   "execution_count": 1,
   "id": "d218eafd",
   "metadata": {},
   "outputs": [],
   "source": [
    "from pyspark import SparkConf, SparkContext\n",
    "from pyspark.sql import SparkSession\n",
    "from pyspark.sql.functions import col, sum"
   ]
  },
  {
   "cell_type": "code",
   "execution_count": 19,
   "id": "1add7e8f-e0b7-46ce-a52c-f432e5ff5fb2",
   "metadata": {},
   "outputs": [],
   "source": [
    "from pyspark.sql.functions import avg"
   ]
  },
  {
   "cell_type": "markdown",
   "id": "e9fcf293-8aa2-4ba7-b98a-5c1fb28e1827",
   "metadata": {},
   "source": [
    "Spark context is the older entry point (spark 1.0) for accessing the rdd api and for other contexts like hive context and sql context.\n",
    "With Spark2.0 dataframes were included as independent api which have all the context with it. SparkContext needs SparkConf but SparkSession doesn't need any.\n",
    "SparkContext, HiveContext and SqlContext are now available through SparkSession but they only for backward comptibility."
   ]
  },
  {
   "cell_type": "code",
   "execution_count": 2,
   "id": "3f9d88aa-7a59-4fa3-b909-518bd7d5874b",
   "metadata": {},
   "outputs": [
    {
     "name": "stderr",
     "output_type": "stream",
     "text": [
      "25/05/12 17:46:55 WARN Utils: Your hostname, Nothing-Is-Real resolves to a loopback address: 127.0.1.1; using 10.255.255.254 instead (on interface lo)\n",
      "25/05/12 17:46:55 WARN Utils: Set SPARK_LOCAL_IP if you need to bind to another address\n",
      "Setting default log level to \"WARN\".\n",
      "To adjust logging level use sc.setLogLevel(newLevel). For SparkR, use setLogLevel(newLevel).\n",
      "25/05/12 17:46:56 WARN NativeCodeLoader: Unable to load native-hadoop library for your platform... using builtin-java classes where applicable\n"
     ]
    }
   ],
   "source": [
    "spark = SparkSession.builder.appName(\"Flight Data Analysis\").getOrCreate()"
   ]
  },
  {
   "cell_type": "code",
   "execution_count": 2,
   "id": "438d772b",
   "metadata": {},
   "outputs": [
    {
     "name": "stderr",
     "output_type": "stream",
     "text": [
      "25/05/11 05:33:52 WARN Utils: Your hostname, Nothing-Is-Real resolves to a loopback address: 127.0.1.1; using 10.255.255.254 instead (on interface lo)\n",
      "25/05/11 05:33:52 WARN Utils: Set SPARK_LOCAL_IP if you need to bind to another address\n",
      "Setting default log level to \"WARN\".\n",
      "To adjust logging level use sc.setLogLevel(newLevel). For SparkR, use setLogLevel(newLevel).\n",
      "25/05/11 05:33:53 WARN NativeCodeLoader: Unable to load native-hadoop library for your platform... using builtin-java classes where applicable\n",
      "25/05/11 05:34:04 WARN GarbageCollectionMetrics: To enable non-built-in garbage collector(s) List(G1 Concurrent GC), users should configure it(them) to spark.eventLog.gcMetrics.youngGenerationGarbageCollectors or spark.eventLog.gcMetrics.oldGenerationGarbageCollectors\n"
     ]
    }
   ],
   "source": [
    "#creating spark context and initializing spark session\n",
    "conf = (SparkConf().setMaster(\"local[*]\").setAppName(\"Flight Data Analysis\").set(\"spark.executro.memory\", \"2g\"))\n",
    "sc = SparkContext(conf=conf)\n",
    "# sc.setLogLevel(\"Error\")\n",
    "spark = SparkSession(sc)"
   ]
  },
  {
   "cell_type": "code",
   "execution_count": 9,
   "id": "13c9b6d3",
   "metadata": {},
   "outputs": [
    {
     "name": "stderr",
     "output_type": "stream",
     "text": [
      "                                                                                "
     ]
    },
    {
     "name": "stdout",
     "output_type": "stream",
     "text": [
      "Total row count:  3606803\n",
      "+--------------+-------------------+-------------+----------------+----------+-----+-------+--------+----------+-----------------+----------------------+----------------+-----------------+----------------+-----------------+\n",
      "|Origin_airport|Destination_airport|  Origin_city|Destination_city|Passengers|Seats|Flights|Distance|  Fly_date|Origin_population|Destination_population| Org_airport_lat| Org_airport_long|Dest_airport_lat|Dest_airport_long|\n",
      "+--------------+-------------------+-------------+----------------+----------+-----+-------+--------+----------+-----------------+----------------------+----------------+-----------------+----------------+-----------------+\n",
      "|           MHK|                AMW|Manhattan, KS|        Ames, IA|        21|   30|      1|     254|2008-10-01|           122049|                 86219| 39.140998840332|-96.6707992553711|            NULL|             NULL|\n",
      "|           EUG|                RDM|   Eugene, OR|        Bend, OR|        41|  396|     22|     103|1990-11-01|           284093|                 76034|44.1245994567871| -123.21199798584|      44.2541008|     -121.1500015|\n",
      "|           EUG|                RDM|   Eugene, OR|        Bend, OR|        88|  342|     19|     103|1990-12-01|           284093|                 76034|44.1245994567871| -123.21199798584|      44.2541008|     -121.1500015|\n",
      "|           EUG|                RDM|   Eugene, OR|        Bend, OR|        11|   72|      4|     103|1990-10-01|           284093|                 76034|44.1245994567871| -123.21199798584|      44.2541008|     -121.1500015|\n",
      "|           MFR|                RDM|  Medford, OR|        Bend, OR|         0|   18|      1|     156|1990-02-01|           147300|                 76034|42.3741989135742|-122.873001098633|      44.2541008|     -121.1500015|\n",
      "+--------------+-------------------+-------------+----------------+----------+-----+-------+--------+----------+-----------------+----------------------+----------------+-----------------+----------------+-----------------+\n",
      "only showing top 5 rows\n",
      "\n",
      "root\n",
      " |-- Origin_airport: string (nullable = true)\n",
      " |-- Destination_airport: string (nullable = true)\n",
      " |-- Origin_city: string (nullable = true)\n",
      " |-- Destination_city: string (nullable = true)\n",
      " |-- Passengers: integer (nullable = true)\n",
      " |-- Seats: integer (nullable = true)\n",
      " |-- Flights: integer (nullable = true)\n",
      " |-- Distance: integer (nullable = true)\n",
      " |-- Fly_date: date (nullable = true)\n",
      " |-- Origin_population: integer (nullable = true)\n",
      " |-- Destination_population: integer (nullable = true)\n",
      " |-- Org_airport_lat: double (nullable = true)\n",
      " |-- Org_airport_long: double (nullable = true)\n",
      " |-- Dest_airport_lat: double (nullable = true)\n",
      " |-- Dest_airport_long: double (nullable = true)\n",
      "\n"
     ]
    }
   ],
   "source": [
    "#Loading and peeking at data\n",
    "#Autoinference of schema [Takes time to walk through data and decide the data type]\n",
    "df = spark.read.options(header=True, nullValue='NA', inferSchema=True).csv(\"/home/aman/programs/gitrepos/PySpark/flight_data_analysis/Airports2.csv\")\n",
    "print(\"Total row count: \", df.count())\n",
    "df.show(5)\n",
    "df.printSchema()\n",
    "\n",
    "\n",
    "#timeit >> 3.19 s ± 353 ms per loop (mean ± std. dev. of 7 runs, 1 loop each)"
   ]
  },
  {
   "cell_type": "code",
   "execution_count": 7,
   "id": "833262b5",
   "metadata": {
    "scrolled": true
   },
   "outputs": [
    {
     "name": "stdout",
     "output_type": "stream",
     "text": [
      "Total row count:  3606803\n",
      "root\n",
      " |-- Origin_airport: string (nullable = true)\n",
      " |-- Destination_airport: string (nullable = true)\n",
      " |-- Origin_city: string (nullable = true)\n",
      " |-- Destination_city: string (nullable = true)\n",
      " |-- Passengers: integer (nullable = true)\n",
      " |-- Seats: integer (nullable = true)\n",
      " |-- Flights: integer (nullable = true)\n",
      " |-- Distance: long (nullable = true)\n",
      " |-- Fly_date: date (nullable = true)\n",
      " |-- Origin_population: long (nullable = true)\n",
      " |-- Destination_population: long (nullable = true)\n",
      " |-- Org_airport_lat: string (nullable = true)\n",
      " |-- Org_airport_long: string (nullable = true)\n",
      " |-- Dest_airport_lat: string (nullable = true)\n",
      " |-- Dest_airport_long: string (nullable = true)\n",
      "\n",
      "+--------------+-------------------+-------------+----------------+----------+-----+-------+--------+----------+-----------------+----------------------+----------------+-----------------+----------------+-----------------+\n",
      "|Origin_airport|Destination_airport|  Origin_city|Destination_city|Passengers|Seats|Flights|Distance|  Fly_date|Origin_population|Destination_population| Org_airport_lat| Org_airport_long|Dest_airport_lat|Dest_airport_long|\n",
      "+--------------+-------------------+-------------+----------------+----------+-----+-------+--------+----------+-----------------+----------------------+----------------+-----------------+----------------+-----------------+\n",
      "|           MHK|                AMW|Manhattan, KS|        Ames, IA|        21|   30|      1|     254|2008-10-01|           122049|                 86219| 39.140998840332|-96.6707992553711|            NULL|             NULL|\n",
      "|           EUG|                RDM|   Eugene, OR|        Bend, OR|        41|  396|     22|     103|1990-11-01|           284093|                 76034|44.1245994567871| -123.21199798584|      44.2541008|     -121.1500015|\n",
      "|           EUG|                RDM|   Eugene, OR|        Bend, OR|        88|  342|     19|     103|1990-12-01|           284093|                 76034|44.1245994567871| -123.21199798584|      44.2541008|     -121.1500015|\n",
      "|           EUG|                RDM|   Eugene, OR|        Bend, OR|        11|   72|      4|     103|1990-10-01|           284093|                 76034|44.1245994567871| -123.21199798584|      44.2541008|     -121.1500015|\n",
      "|           MFR|                RDM|  Medford, OR|        Bend, OR|         0|   18|      1|     156|1990-02-01|           147300|                 76034|42.3741989135742|-122.873001098633|      44.2541008|     -121.1500015|\n",
      "+--------------+-------------------+-------------+----------------+----------+-----+-------+--------+----------+-----------------+----------------------+----------------+-----------------+----------------+-----------------+\n",
      "only showing top 5 rows\n",
      "\n"
     ]
    }
   ],
   "source": [
    "#Defining schema to load data using the provided schema instead of auto inference of schema\n",
    "#Pre-defining of schema provides control over actual data type and takes less time to create the dataframe.\n",
    "from pyspark.sql.types import StructType, StructField, IntegerType, StringType, NumericType, DateType, LongType\n",
    "\n",
    "schema = StructType([StructField(\"Origin_airport\",StringType(), True),\n",
    "                     StructField(\"Destination_airport\", StringType(), True),\n",
    "                     StructField(\"Origin_city\", StringType(), True),\n",
    "                     StructField(\"Destination_city\", StringType(), True),\n",
    "                     StructField(\"Passengers\", IntegerType(), True),\n",
    "                     StructField(\"Seats\", IntegerType(), True),\n",
    "                     StructField(\"Flights\", IntegerType(), True),\n",
    "                     StructField(\"Distance\", LongType(), True),\n",
    "                     StructField(\"Fly_date\", DateType(), True),\n",
    "                     StructField(\"Origin_population\", LongType(), True),\n",
    "                     StructField(\"Destination_population\", LongType(), True),\n",
    "                     StructField(\"Org_airport_lat\", StringType(), True),\n",
    "                     StructField(\"Org_airport_long\", StringType(), True),\n",
    "                     StructField(\"Dest_airport_lat\", StringType(), True),\n",
    "                     StructField(\"Dest_airport_long\", StringType(), True),\n",
    "                     \n",
    "                     ])\n",
    "\n",
    "dataframe = spark.read.options(header=True, nullValue='NA').csv(\"/home/aman/programs/gitrepos/PySpark/flight_data_analysis/Airports2.csv\", schema=schema)\n",
    "\n",
    "print(\"Total row count: \", dataframe.count())\n",
    "dataframe.printSchema()\n",
    "dataframe.show(5)\n",
    "\n",
    "#timeit >> 482 ms ± 23.6 ms per loop (mean ± std. dev. of 7 runs, 1 loop each)"
   ]
  },
  {
   "cell_type": "code",
   "execution_count": 10,
   "id": "f6d33943-7bf6-4081-919d-d4b8cf2258f8",
   "metadata": {},
   "outputs": [
    {
     "data": {
      "text/plain": [
       "DataFrame[Origin_airport: string, Destination_airport: string, Origin_city: string, Destination_city: string, Passengers: int, Seats: int, Flights: int, Distance: bigint, Fly_date: date, Origin_population: bigint, Destination_population: bigint, Org_airport_lat: string, Org_airport_long: string, Dest_airport_lat: string, Dest_airport_long: string]"
      ]
     },
     "execution_count": 10,
     "metadata": {},
     "output_type": "execute_result"
    }
   ],
   "source": [
    "dataframe.cache()"
   ]
  },
  {
   "cell_type": "code",
   "execution_count": 11,
   "id": "382acf2d",
   "metadata": {
    "scrolled": true
   },
   "outputs": [
    {
     "name": "stdout",
     "output_type": "stream",
     "text": [
      "Unique no of origin and destination airports are: \n"
     ]
    },
    {
     "name": "stderr",
     "output_type": "stream",
     "text": [
      "                                                                                "
     ]
    },
    {
     "name": "stdout",
     "output_type": "stream",
     "text": [
      "Origin airports:  683\n",
      "Destination airports:  708\n",
      "Most frequent origin and destination airports are: \n",
      "Origin airport with count : \n",
      "+--------------+------+\n",
      "|Origin_airport| count|\n",
      "+--------------+------+\n",
      "|           ORD|158496|\n",
      "+--------------+------+\n",
      "only showing top 1 row\n",
      "\n",
      "Destination airport with count : \n",
      "+-------------------+------+\n",
      "|Destination_airport| count|\n",
      "+-------------------+------+\n",
      "|                ORD|160054|\n",
      "+-------------------+------+\n",
      "only showing top 1 row\n",
      "\n",
      "158496\n",
      "160054\n"
     ]
    }
   ],
   "source": [
    "\"\"\"\n",
    "    What are the most frequent origin and destination airports in the dataset?\n",
    "    How many unique origin and destination airports are there?\n",
    "\"\"\"\n",
    "\n",
    "print(\"Unique no of origin and destination airports are: \")\n",
    "print(\"Origin airports: \", dataframe.select(\"Origin_airport\").distinct().count())\n",
    "print(\"Destination airports: \", dataframe.select(\"Destination_airport\").distinct().count())\n",
    "\n",
    "\n",
    "print(\"Most frequent origin and destination airports are: \")\n",
    "print(\"Origin airport with count : \")\n",
    "dataframe.groupBy(\"Origin_airport\").count().orderBy(\"count\", ascending=0).show(1)\n",
    "\n",
    "print(\"Destination airport with count : \")\n",
    "dataframe.groupBy(\"Destination_airport\").count().orderBy(\"count\", ascending=0).show(1)\n",
    "\n",
    "\n",
    "#verfication for occurance count\n",
    "print(dataframe.select(\"Origin_airport\").where(col(\"Origin_airport\")=='ORD').count())\n",
    "print(dataframe.select(\"Destination_airport\").where(col(\"Destination_airport\")=='ORD').count())"
   ]
  },
  {
   "cell_type": "code",
   "execution_count": 12,
   "id": "c2611e81",
   "metadata": {},
   "outputs": [
    {
     "name": "stdout",
     "output_type": "stream",
     "text": [
      "+--------------+-------------------+-----+\n",
      "|Origin_airport|Destination_airport|count|\n",
      "+--------------+-------------------+-----+\n",
      "|           LAX|                SFO| 5694|\n",
      "+--------------+-------------------+-----+\n",
      "only showing top 1 row\n",
      "\n",
      "+-----------+------+\n",
      "|Origin_city| count|\n",
      "+-----------+------+\n",
      "|Chicago, IL|186312|\n",
      "+-----------+------+\n",
      "only showing top 1 row\n",
      "\n"
     ]
    }
   ],
   "source": [
    "\"\"\"\n",
    "    Which city pairs (origin and destination) have the highest number of flights?\n",
    "    What is the most common origin city for flights?\n",
    "\"\"\"\n",
    "\n",
    "dataframe.groupBy(['Origin_airport', 'Destination_airport']).count().orderBy('count', ascending=0).show(1)\n",
    "\n",
    "dataframe.groupBy('Origin_city').count().orderBy('count', ascending=0).show(1)"
   ]
  },
  {
   "cell_type": "code",
   "execution_count": 13,
   "id": "743bec84",
   "metadata": {},
   "outputs": [
    {
     "name": "stdout",
     "output_type": "stream",
     "text": [
      "+---------------+\n",
      "|sum(Passengers)|\n",
      "+---------------+\n",
      "|     9698370217|\n",
      "+---------------+\n",
      "\n",
      "+--------------+-------------------+---------------+\n",
      "|Origin_airport|Destination_airport|sum(Passengers)|\n",
      "+--------------+-------------------+---------------+\n",
      "|           OGG|                HNL|       32364612|\n",
      "+--------------+-------------------+---------------+\n",
      "only showing top 1 row\n",
      "\n"
     ]
    }
   ],
   "source": [
    "\"\"\"\n",
    "    What is the total number of passengers for all flights in the dataset?\n",
    "    Which route (origin to destination) has the highest number of passengers?\n",
    "\"\"\"\n",
    "\n",
    "dataframe.select(\"Passengers\").agg(sum(\"Passengers\")).show()\n",
    "\n",
    "dataframe.groupBy(['Origin_airport', 'Destination_airport']).agg(sum('Passengers')).orderBy('sum(Passengers)', ascending=0).show(1)"
   ]
  },
  {
   "cell_type": "code",
   "execution_count": 21,
   "id": "5aefe440-c6fe-4ed7-9189-a695fc579202",
   "metadata": {},
   "outputs": [
    {
     "name": "stdout",
     "output_type": "stream",
     "text": [
      "+----------------------------------------------+\n",
      "|(Total_Seats / Total_Flights AS Average_Seats)|\n",
      "+----------------------------------------------+\n",
      "|                            108.74072362773029|\n",
      "+----------------------------------------------+\n",
      "\n",
      "+--------------+-------------------+------------------+\n",
      "|Origin_airport|Destination_airport|        avg(Seats)|\n",
      "+--------------+-------------------+------------------+\n",
      "|           HOU|                DAL| 33454.32802937576|\n",
      "|           LGA|                DCA|31680.222338204592|\n",
      "|           DAL|                HOU|  31445.4315403423|\n",
      "|           DCA|                LGA| 30073.12996031746|\n",
      "|           BOS|                LGA|28716.677619893428|\n",
      "|           LGA|                BOS|28488.496062992126|\n",
      "|           HNL|                OGG|22195.539660056656|\n",
      "|           OGG|                HNL|20688.098374322635|\n",
      "|           HOU|                MSY| 18012.41176470588|\n",
      "|           MSY|                HOU|17687.453271028036|\n",
      "|           DFW|                SNA|16858.192582025677|\n",
      "|           SNA|                DFW|15658.940771349862|\n",
      "|           DFW|                LGA|15310.228212039532|\n",
      "|           OAK|                JFK|15213.911949685535|\n",
      "|           DLH|                DRO|           15100.0|\n",
      "|           LGA|                DFW|14894.783259911894|\n",
      "|           LGA|                ORD|14874.217046580772|\n",
      "|           ORD|                LGA|14792.784607696152|\n",
      "|           HNL|                ITO|14758.131498470948|\n",
      "|           MCI|                MDW| 14739.97508125677|\n",
      "+--------------+-------------------+------------------+\n",
      "only showing top 20 rows\n",
      "\n"
     ]
    }
   ],
   "source": [
    "\"\"\"\n",
    "    What is the average number of seats available per flight?\n",
    "    Which flight route has the highest seat capacity?\n",
    "\"\"\"\n",
    "\n",
    "dataframe.select('Flights', 'Seats').agg(sum('Flights').alias('Total_Flights'), sum('Seats').alias('Total_Seats')).select(col('Total_Seats')/col('Total_Flights').alias('Average_Seats')).show()\n",
    "\n",
    "\n",
    "dataframe.groupBy('Origin_airport', 'Destination_airport').agg(avg('Seats')).orderBy('avg(Seats)', ascending=0).show()"
   ]
  },
  {
   "cell_type": "code",
   "execution_count": 24,
   "id": "779f7071-b6d2-444a-8908-eb8e7916569b",
   "metadata": {},
   "outputs": [
    {
     "name": "stdout",
     "output_type": "stream",
     "text": [
      "+-------------+\n",
      "|Total_Flights|\n",
      "+-------------+\n",
      "|    134277303|\n",
      "+-------------+\n",
      "\n",
      "+-------------------+----------------+------------------+\n",
      "|        Origin_city|Destination_city|   Average_Flights|\n",
      "+-------------------+----------------+------------------+\n",
      "|     Des Moines, IA|        Elko, NV|1.0934579439252337|\n",
      "|         Eureka, CA|        Elko, NV|               1.0|\n",
      "|      Baltimore, MD|       Akron, OH|               1.0|\n",
      "|        Lansing, MI|       Fargo, ND|               1.0|\n",
      "|         Albany, GA|       Miami, FL|               2.0|\n",
      "|       Missoula, MT|       Omaha, NE|               1.0|\n",
      "|          Miami, FL|       Tampa, FL| 50.17626886145405|\n",
      "|        Midland, TX|      Austin, TX|17.413447782546495|\n",
      "|West Palm Beach, FL|      Austin, TX|           1.03125|\n",
      "|         Topeka, KS|      Bangor, ME|1.6666666666666667|\n",
      "|         Dayton, OH|        Waco, TX|               1.0|\n",
      "|       Columbus, OH|       Akron, OH|               1.0|\n",
      "|        Chicago, IL|       Fargo, ND| 57.17058823529412|\n",
      "|    Gainesville, FL|       Macon, GA|1.0909090909090908|\n",
      "|     Burlington, VT|       Macon, GA|               1.0|\n",
      "|        Chicago, IL|       Minot, ND|               1.0|\n",
      "|     Greenville, SC|       Tampa, FL|23.102941176470587|\n",
      "|        Del Rio, TX|       Tyler, TX|               1.0|\n",
      "|       Columbus, IN|      Albany, GA|               1.0|\n",
      "|  Traverse City, MI|      Albany, NY|               1.0|\n",
      "+-------------------+----------------+------------------+\n",
      "only showing top 20 rows\n",
      "\n"
     ]
    }
   ],
   "source": [
    "\"\"\"\n",
    "    How many flights are there in total?\n",
    "    What is the average number of flights between two cities?\n",
    "\"\"\"\n",
    "\n",
    "dataframe.select(sum('Flights').alias('Total_Flights')).show()\n",
    "\n",
    "dataframe.groupBy('Origin_city', 'Destination_city').agg(avg('Flights').alias('Average_Flights')).show()"
   ]
  },
  {
   "cell_type": "code",
   "execution_count": 28,
   "id": "69dc652b-97bb-4e43-8853-ff4df7ce2277",
   "metadata": {},
   "outputs": [
    {
     "name": "stdout",
     "output_type": "stream",
     "text": [
      "+----------------+-----------------+\n",
      "|Longest_Distance|Shortest_Distance|\n",
      "+----------------+-----------------+\n",
      "|            5095|                0|\n",
      "+----------------+-----------------+\n",
      "\n",
      "+--------------+-------------------+--------+\n",
      "|Origin_airport|Destination_airport|Distance|\n",
      "+--------------+-------------------+--------+\n",
      "|           PHL|                PHL|       0|\n",
      "+--------------+-------------------+--------+\n",
      "only showing top 1 row\n",
      "\n",
      "+--------------+-------------------+--------+\n",
      "|Origin_airport|Destination_airport|Distance|\n",
      "+--------------+-------------------+--------+\n",
      "|           BOS|                HNL|    5095|\n",
      "+--------------+-------------------+--------+\n",
      "only showing top 1 row\n",
      "\n"
     ]
    }
   ],
   "source": [
    "from pyspark.sql.functions import max, min\n",
    "\"\"\"\n",
    "    What is the longest and shortest flight distance in the dataset?\n",
    "    Which route has the longest distance?\n",
    "\"\"\"\n",
    "dataframe.select(max('Distance').alias('Longest_Distance'), min('Distance').alias('Shortest_Distance')).show()\n",
    "\n",
    "\n",
    "dataframe.select('Origin_airport', 'Destination_airport', 'Distance').orderBy('Distance', ascending=1).show(1)\n",
    "dataframe.select('Origin_airport', 'Destination_airport', 'Distance').orderBy('Distance', ascending=0).show(1)"
   ]
  },
  {
   "cell_type": "code",
   "execution_count": 33,
   "id": "83845184-3072-4c28-96ff-f1f41866975a",
   "metadata": {},
   "outputs": [
    {
     "name": "stdout",
     "output_type": "stream",
     "text": [
      "+----------+----------+\n",
      "|Start_Date| Last_Date|\n",
      "+----------+----------+\n",
      "|1990-01-01|2009-12-01|\n",
      "+----------+----------+\n",
      "\n",
      "+----------+-------------+\n",
      "|  Fly_date|Total_Flights|\n",
      "+----------+-------------+\n",
      "|1990-01-01|       422366|\n",
      "+----------+-------------+\n",
      "\n"
     ]
    }
   ],
   "source": [
    "\"\"\"\n",
    "    What is the range of dates covered in the dataset?\n",
    "    How many flights occurred on a specific date (e.g., 2008-10-01)?\n",
    "\"\"\"\n",
    "\n",
    "dataframe.select(min('Fly_date').alias('Start_Date'), max('Fly_date').alias('Last_Date')).show()\n",
    "\n",
    "dataframe.groupBy('Fly_date').agg(sum('Flights').alias('Total_Flights')).where(col('Fly_date')=='1990-01-01').show()"
   ]
  },
  {
   "cell_type": "code",
   "execution_count": 41,
   "id": "cfc16876-ce4c-44c9-9ef3-dd57d42addfa",
   "metadata": {},
   "outputs": [
    {
     "name": "stdout",
     "output_type": "stream",
     "text": [
      "+-------------------+----------------+----------------------+---------------------------+\n",
      "|        Origin_city|Destination_city|avg(Origin_population)|avg(Destination_population)|\n",
      "+-------------------+----------------+----------------------+---------------------------+\n",
      "|     Des Moines, IA|        Elko, NV|    461837.85046728974|                    43886.0|\n",
      "|         Eureka, CA|        Elko, NV|              122284.0|                    43663.5|\n",
      "|      Baltimore, MD|       Akron, OH|     2634257.888888889|          699513.4444444445|\n",
      "|        Lansing, MI|       Fargo, ND|              455731.5|                   190810.5|\n",
      "|         Albany, GA|       Miami, FL|     161870.2857142857|                1.0777358E7|\n",
      "|       Missoula, MT|       Omaha, NE|               98675.5|                   787086.5|\n",
      "|          Miami, FL|       Tampa, FL|     9606516.685871055|         2355536.3127572015|\n",
      "|        Midland, TX|      Austin, TX|    117147.16309012876|         1215219.5894134478|\n",
      "|West Palm Beach, FL|      Austin, TX|         4969448.53125|              1275144.71875|\n",
      "|         Topeka, KS|      Bangor, ME|    226076.33333333334|         146814.33333333334|\n",
      "|         Dayton, OH|        Waco, TX|              840158.2|                   227363.4|\n",
      "|       Columbus, OH|       Akron, OH|             1591043.5|          687128.3214285715|\n",
      "|        Chicago, IL|       Fargo, ND|  1.8431224352941178E7|         182867.09411764707|\n",
      "|    Gainesville, FL|       Macon, GA|    226981.84848484848|         221846.24242424243|\n",
      "|     Burlington, VT|       Macon, GA|              207028.0|                   230735.0|\n",
      "|        Chicago, IL|       Minot, ND|            1.849027E7|                    65361.0|\n",
      "|     Greenville, SC|       Tampa, FL|     586631.6323529412|          2596193.161764706|\n",
      "|        Del Rio, TX|       Tyler, TX|               48165.0|                   204665.0|\n",
      "|       Columbus, IN|      Albany, GA|               72523.0|                   161489.0|\n",
      "|  Traverse City, MI|      Albany, NY|              139881.0|                   846357.0|\n",
      "+-------------------+----------------+----------------------+---------------------------+\n",
      "only showing top 20 rows\n",
      "\n",
      "+------------+----------+\n",
      "| Origin_city|Population|\n",
      "+------------+----------+\n",
      "|New York, NY|  38139592|\n",
      "+------------+----------+\n",
      "only showing top 1 row\n",
      "\n",
      "+----------------+----------+\n",
      "|Destination_city|Population|\n",
      "+----------------+----------+\n",
      "|    New York, NY|  38139592|\n",
      "+----------------+----------+\n",
      "only showing top 1 row\n",
      "\n"
     ]
    }
   ],
   "source": [
    "\"\"\"\n",
    "   - What is the average population of origin and destination cities?\n",
    "   - Which city has the highest population as an origin or destination?\n",
    "\n",
    "\"\"\"\n",
    "\n",
    "dataframe.groupBy('Origin_city', 'Destination_city').agg(avg('Origin_population'), avg('Destination_population')).show()\n",
    "\n",
    "\n",
    "dataframe.groupBy('Origin_city').agg(max('Origin_population').alias('Population')).orderBy('Population', ascending=0).show(1)\n",
    "\n",
    "dataframe.groupBy('Destination_city').agg(max('Destination_population').alias('Population')).orderBy('Population', ascending=0).show(1)"
   ]
  },
  {
   "cell_type": "code",
   "execution_count": 42,
   "id": "f51651af-95bc-4a8b-b1a6-12d823eccf5e",
   "metadata": {},
   "outputs": [
    {
     "data": {
      "text/plain": [
       "['Origin_airport',\n",
       " 'Destination_airport',\n",
       " 'Origin_city',\n",
       " 'Destination_city',\n",
       " 'Passengers',\n",
       " 'Seats',\n",
       " 'Flights',\n",
       " 'Distance',\n",
       " 'Fly_date',\n",
       " 'Origin_population',\n",
       " 'Destination_population',\n",
       " 'Org_airport_lat',\n",
       " 'Org_airport_long',\n",
       " 'Dest_airport_lat',\n",
       " 'Dest_airport_long']"
      ]
     },
     "execution_count": 42,
     "metadata": {},
     "output_type": "execute_result"
    }
   ],
   "source": [
    "dataframe.columns"
   ]
  },
  {
   "cell_type": "code",
   "execution_count": 46,
   "id": "5f8eceec-c7a5-4837-acbc-459efbc11db6",
   "metadata": {},
   "outputs": [
    {
     "name": "stdout",
     "output_type": "stream",
     "text": [
      "6954\n",
      "6954\n",
      "6807\n",
      "6807\n"
     ]
    }
   ],
   "source": [
    "\"\"\"\n",
    " **Latitude and Longitude:**\n",
    "   - Are there any missing latitude or longitude values for airports?\n",
    "   - What is the geographical distribution of origin and destination airports?\n",
    "\"\"\"\n",
    "\n",
    "print(dataframe.filter(dataframe.Org_airport_lat.isNull()).count())\n",
    "\n",
    "print(dataframe.filter(dataframe.Org_airport_long.isNull()).count())\n",
    "\n",
    "print(dataframe.filter(dataframe.Dest_airport_lat.isNull()).count())\n",
    "\n",
    "print(dataframe.filter(dataframe.Dest_airport_long.isNull()).count())\n"
   ]
  },
  {
   "cell_type": "code",
   "execution_count": 53,
   "id": "5b73c6f6-6315-45ba-918f-07653c16165e",
   "metadata": {},
   "outputs": [
    {
     "name": "stdout",
     "output_type": "stream",
     "text": [
      "+-----------+----------------+----------+--------+\n",
      "|Origin_city|Destination_city|Passengers|Distance|\n",
      "+-----------+----------------+----------+--------+\n",
      "|Kahului, HI|    Honolulu, HI|     89597|     100|\n",
      "+-----------+----------------+----------+--------+\n",
      "only showing top 1 row\n",
      "\n",
      "+-----------+----------------+----------+--------+\n",
      "|Origin_city|Destination_city|Passengers|Distance|\n",
      "+-----------+----------------+----------+--------+\n",
      "| Boston, MA|    Honolulu, HI|         0|    5095|\n",
      "+-----------+----------------+----------+--------+\n",
      "only showing top 1 row\n",
      "\n",
      "Origin_city_population vs No of Passengers correlation:  0.10271982618165293\n",
      "Destination_city_population vs No of Passengers correlation:  0.09975446573980201\n"
     ]
    }
   ],
   "source": [
    "\"\"\"\n",
    " **Combined Questions:**\n",
    "    - Which city pair has the highest number of passengers and the longest distance?\n",
    "    - Are there any correlations between the number of passengers and the population of the origin or destination city?\n",
    "\"\"\"\n",
    "\n",
    "\n",
    "dataframe.groupBy('Origin_city', 'Destination_city').agg(max('Passengers').alias('Passengers'), max('Distance').alias('Distance')).orderBy(['Passengers', 'Distance'], ascending=[0,0]).show(1)\n",
    "\n",
    "dataframe.groupBy('Origin_city', 'Destination_city').agg(max('Passengers').alias('Passengers'), max('Distance').alias('Distance')).orderBy('Distance', ascending=0).show(1)\n",
    "\n",
    "#correlation between no of passengers and population of origin or destination city\n",
    "\n",
    "print(\"Origin_city_population vs No of Passengers correlation: \", dataframe.stat.corr('Origin_population', 'Passengers'))\n",
    "\n",
    "\n",
    "print(\"Destination_city_population vs No of Passengers correlation: \", dataframe.stat.corr('Destination_population', 'Passengers'))\n"
   ]
  },
  {
   "cell_type": "code",
   "execution_count": null,
   "id": "6f7adaf0-7cfc-4136-8db0-4360095fc387",
   "metadata": {},
   "outputs": [],
   "source": []
  },
  {
   "cell_type": "code",
   "execution_count": null,
   "id": "064aa76d-a96d-40f9-8b9d-7c32368c8ea0",
   "metadata": {},
   "outputs": [],
   "source": []
  },
  {
   "cell_type": "code",
   "execution_count": null,
   "id": "5ef7ddeb-7c95-4ae7-a32a-3d2555aa1e34",
   "metadata": {},
   "outputs": [],
   "source": []
  },
  {
   "cell_type": "code",
   "execution_count": 28,
   "id": "7894ae40",
   "metadata": {},
   "outputs": [],
   "source": [
    "sc.stop()"
   ]
  },
  {
   "cell_type": "code",
   "execution_count": null,
   "id": "0599238b-bcd7-4769-8916-196c306beffd",
   "metadata": {},
   "outputs": [],
   "source": []
  }
 ],
 "metadata": {
  "kernelspec": {
   "display_name": "Python 3 (ipykernel)",
   "language": "python",
   "name": "python3"
  }
 },
 "nbformat": 4,
 "nbformat_minor": 5
}
