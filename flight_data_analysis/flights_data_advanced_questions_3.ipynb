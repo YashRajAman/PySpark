{
 "cells": [
  {
   "cell_type": "markdown",
   "metadata": {},
   "source": [
    "# Flight Data Analysis - Advanced Questions Set 3\n",
    "This notebook contains 25 more advanced questions to further enhance your PySpark data analysis skills."
   ]
  },
  {
   "cell_type": "markdown",
   "metadata": {},
   "source": [
    "## Question 41\n",
    "Find the top 10 routes with the highest average delay per flight (assuming delay data is available)."
   ]
  },
  {
   "cell_type": "code",
   "metadata": {},
   "source": [
    "# Your solution here or explanation"
   ],
   "execution_count": null,
   "outputs": []
  },
  {
   "cell_type": "markdown",
   "metadata": {},
   "source": [
    "## Question 42\n",
    "Calculate the average number of flights per day for each airline (assuming airline data is available)."
   ]
  },
  {
   "cell_type": "code",
   "metadata": {},
   "source": [
    "# Your solution here or explanation"
   ],
   "execution_count": null,
   "outputs": []
  },
  {
   "cell_type": "markdown",
   "metadata": {},
   "source": [
    "## Question 43\n",
    "Identify the months with the highest variance in passenger numbers."
   ]
  },
  {
   "cell_type": "code",
   "metadata": {},
   "source": [
    "# Your solution here"
   ],
   "execution_count": null,
   "outputs": []
  },
  {
   "cell_type": "markdown",
   "metadata": {},
   "source": [
    "## Question 44\n",
    "Find the correlation between destination city population and average seat occupancy."
   ]
  },
  {
   "cell_type": "code",
   "metadata": {},
   "source": [
    "# Your solution here"
   ],
   "execution_count": null,
   "outputs": []
  },
  {
   "cell_type": "markdown",
   "metadata": {},
   "source": [
    "## Question 45\n",
    "Determine the top 5 origin airports with the highest average flight delay (assuming delay data is available)."
   ]
  },
  {
   "cell_type": "code",
   "metadata": {},
   "source": [
    "# Your solution here or explanation"
   ],
   "execution_count": null,
   "outputs": []
  },
  {
   "cell_type": "markdown",
   "metadata": {},
   "source": [
    "## Question 46\n",
    "Calculate the average number of passengers per flight for routes with more than 200 flights."
   ]
  },
  {
   "cell_type": "code",
   "metadata": {},
   "source": [
    "# Your solution here"
   ],
   "execution_count": null,
   "outputs": []
  },
  {
   "cell_type": "markdown",
   "metadata": {},
   "source": [
    "## Question 47\n",
    "Find the routes with the longest average flight duration (assuming duration data is available)."
   ]
  },
  {
   "cell_type": "code",
   "metadata": {},
   "source": [
    "# Your solution here or explanation"
   ],
   "execution_count": null,
   "outputs": []
  },
  {
   "cell_type": "markdown",
   "metadata": {},
   "source": [
    "## Question 48\n",
    "Identify the days of the week with the highest average number of flights."
   ]
  },
  {
   "cell_type": "code",
   "metadata": {},
   "source": [
    "# Your solution here"
   ],
   "execution_count": null,
   "outputs": []
  },
  {
   "cell_type": "markdown",
   "metadata": {},
   "source": [
    "## Question 49\n",
    "Calculate the total number of passengers for flights with seat occupancy below 60%."
   ]
  },
  {
   "cell_type": "code",
   "metadata": {},
   "source": [
    "# Your solution here"
   ],
   "execution_count": null,
   "outputs": []
  },
  {
   "cell_type": "markdown",
   "metadata": {},
   "source": [
    "## Question 50\n",
    "Find the top 10 routes with the highest increase in average flight distance over the last 5 years."
   ]
  },
  {
   "cell_type": "code",
   "metadata": {},
   "source": [
    "# Your solution here"
   ],
   "execution_count": null,
   "outputs": []
  },
  {
   "cell_type": "markdown",
   "metadata": {},
   "source": [
    "## Question 51\n",
    "Determine the average number of flights per month for each destination city."
   ]
  },
  {
   "cell_type": "code",
   "metadata": {},
   "source": [
    "# Your solution here"
   ],
   "execution_count": null,
   "outputs": []
  },
  {
   "cell_type": "markdown",
   "metadata": {},
   "source": [
    "## Question 52\n",
    "Identify the routes with the most consistent average seat occupancy year over year."
   ]
  },
  {
   "cell_type": "code",
   "metadata": {},
   "source": [
    "# Your solution here"
   ],
   "execution_count": null,
   "outputs": []
  },
  {
   "cell_type": "markdown",
   "metadata": {},
   "source": [
    "## Question 53\n",
    "Calculate the average delay per airline per month (assuming delay data is available)."
   ]
  },
  {
   "cell_type": "code",
   "metadata": {},
   "source": [
    "# Your solution here or explanation"
   ],
   "execution_count": null,
   "outputs": []
  },
  {
   "cell_type": "markdown",
   "metadata": {},
   "source": [
    "## Question 54\n",
    "Find the correlation between flight duration and passenger count (assuming duration data is available)."
   ]
  },
  {
   "cell_type": "code",
   "metadata": {},
   "source": [
    "# Your solution here or explanation"
   ],
   "execution_count": null,
   "outputs": []
  },
  {
   "cell_type": "markdown",
   "metadata": {},
   "source": [
    "## Question 55\n",
    "Determine the top 5 origin airports with the highest number of flights during peak hours (assuming time data is available)."
   ]
  },
  {
   "cell_type": "code",
   "metadata": {},
   "source": [
    "# Your solution here or explanation"
   ],
   "execution_count": null,
   "outputs": []
  },
  {
   "cell_type": "markdown",
   "metadata": {},
   "source": [
    "## Question 56\n",
    "Calculate the average number of passengers per flight for each quarter."
   ]
  },
  {
   "cell_type": "code",
   "metadata": {},
   "source": [
    "# Your solution here"
   ],
   "execution_count": null,
   "outputs": []
  },
  {
   "cell_type": "markdown",
   "metadata": {},
   "source": [
    "## Question 57\n",
    "Find the routes with the highest variance in flight duration."
   ]
  },
  {
   "cell_type": "code",
   "metadata": {},
   "source": [
    "# Your solution here or explanation"
   ],
   "execution_count": null,
   "outputs": []
  },
  {
   "cell_type": "markdown",
   "metadata": {},
   "source": [
    "## Question 58\n",
    "Identify the months with the most consistent passenger numbers."
   ]
  },
  {
   "cell_type": "code",
   "metadata": {},
   "source": [
    "# Your solution here"
   ],
   "execution_count": null,
   "outputs": []
  },
  {
   "cell_type": "markdown",
   "metadata": {},
   "source": [
    "## Question 59\n",
    "Calculate the total number of flights delayed by more than 15 minutes."
   ]
  },
  {
   "cell_type": "code",
   "metadata": {},
   "source": [
    "# Your solution here or explanation"
   ],
   "execution_count": null,
   "outputs": []
  },
  {
   "cell_type": "markdown",
   "metadata": {},
   "source": [
    "## Question 60\n",
    "Find the top 10 destination cities with the highest average flight distance."
   ]
  },
  {
   "cell_type": "code",
   "metadata": {},
   "source": [
    "# Your solution here"
   ],
   "execution_count": null,
   "outputs": []
  }
 ],
 "metadata": {
  "kernelspec": {
   "display_name": "Python 3",
   "language": "python",
   "name": "python3"
  },
  "language_info": {
   "name": "python",
   "version": "3.8"
  }
 },
 "nbformat": 4,
 "nbformat_minor": 5
}
