{
 "cells": [
  {
   "cell_type": "markdown",
   "metadata": {},
   "source": [
    "# Advanced Flight Data Analysis Questions\n",
    "This notebook contains mid to advanced level questions for flight data analysis using PySpark. Please provide your solutions in the code cells following each question."
   ]
  },
  {
   "cell_type": "code",
   "execution_count": null,
   "id": "1f6ff462",
   "metadata": {},
   "outputs": [],
   "source": [
    "# import and spark session creation cell\n",
    "\n",
    "from pyspark.sql import SparkSession\n",
    "\n",
    "spark = SparkSession.builder.appName(\"DataFrame Example\").getOrCreate()\n",
    "\n",
    "df = spark.read.csv(\"\")"
   ]
  },
  {
   "cell_type": "markdown",
   "metadata": {},
   "source": [
    "## Question 1: Top 5 busiest airports by total passenger traffic\n",
    "Find the top 5 airports (considering both origin and destination) with the highest total number of passengers."
   ]
  },
  {
   "cell_type": "code",
   "execution_count": null,
   "metadata": {},
   "outputs": [],
   "source": [
    "# Your solution here\n"
   ]
  },
  {
   "cell_type": "markdown",
   "metadata": {},
   "source": [
    "## Question 2: Monthly trend of total flights\n",
    "Calculate the total number of flights for each month across all years in the dataset. Show the results ordered by month."
   ]
  },
  {
   "cell_type": "code",
   "execution_count": null,
   "metadata": {},
   "outputs": [],
   "source": [
    "# Your solution here"
   ]
  },
  {
   "cell_type": "markdown",
   "metadata": {},
   "source": [
    "## Question 3: Flight routes with consistently high seat occupancy\n",
    "Identify flight routes where the average seat occupancy (Passengers / Seats) is greater than 80% across all flights."
   ]
  },
  {
   "cell_type": "code",
   "execution_count": null,
   "metadata": {},
   "outputs": [],
   "source": [
    "# Your solution here"
   ]
  },
  {
   "cell_type": "markdown",
   "metadata": {},
   "source": [
    "## Question 4: Correlation between flight distance and seat occupancy\n",
    "Analyze if there is any correlation between the flight distance and the average seat occupancy on the route."
   ]
  },
  {
   "cell_type": "code",
   "execution_count": null,
   "metadata": {},
   "outputs": [],
   "source": [
    "# Your solution here"
   ]
  },
  {
   "cell_type": "markdown",
   "metadata": {},
   "source": [
    "## Question 5: Identify routes with significant seasonal variation in passenger numbers\n",
    "Find routes where the number of passengers varies significantly between different quarters of the year."
   ]
  },
  {
   "cell_type": "code",
   "execution_count": null,
   "metadata": {},
   "outputs": [],
   "source": [
    "# Your solution here"
   ]
  }
 ],
 "metadata": {
  "kernelspec": {
   "display_name": "Python 3 (ipykernel)",
   "language": "python",
   "name": "python3"
  }
 },
 "nbformat": 4,
 "nbformat_minor": 5
}
