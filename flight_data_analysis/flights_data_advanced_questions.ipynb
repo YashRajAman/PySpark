{
 "cells": [
  {
   "cell_type": "markdown",
   "id": "9645ff6b",
   "metadata": {},
   "source": [
    "# Advanced Flight Data Analysis Questions\n",
    "This notebook contains mid to advanced level questions for flight data analysis using PySpark. Please provide your solutions in the code cells following each question."
   ]
  },
  {
   "cell_type": "code",
   "execution_count": null,
   "id": "1f6ff462",
   "metadata": {},
   "outputs": [
    {
     "name": "stderr",
     "output_type": "stream",
     "text": [
      "25/05/16 13:07:11 WARN Utils: Your hostname, Nothing-Is-Real resolves to a loopback address: 127.0.1.1; using 10.255.255.254 instead (on interface lo)\n",
      "25/05/16 13:07:11 WARN Utils: Set SPARK_LOCAL_IP if you need to bind to another address\n",
      "Setting default log level to \"WARN\".\n",
      "To adjust logging level use sc.setLogLevel(newLevel). For SparkR, use setLogLevel(newLevel).\n",
      "25/05/16 13:07:11 WARN NativeCodeLoader: Unable to load native-hadoop library for your platform... using builtin-java classes where applicable\n"
     ]
    },
    {
     "name": "stdout",
     "output_type": "stream",
     "text": [
      "/home/aman/datasets/Airports2.csv\n"
     ]
    },
    {
     "name": "stderr",
     "output_type": "stream",
     "text": [
      "                                                                                \r"
     ]
    },
    {
     "name": "stdout",
     "output_type": "stream",
     "text": [
      "Total row count:  3606803\n",
      "root\n",
      " |-- Origin_airport: string (nullable = true)\n",
      " |-- Destination_airport: string (nullable = true)\n",
      " |-- Origin_city: string (nullable = true)\n",
      " |-- Destination_city: string (nullable = true)\n",
      " |-- Passengers: integer (nullable = true)\n",
      " |-- Seats: integer (nullable = true)\n",
      " |-- Flights: integer (nullable = true)\n",
      " |-- Distance: long (nullable = true)\n",
      " |-- Fly_date: date (nullable = true)\n",
      " |-- Origin_population: long (nullable = true)\n",
      " |-- Destination_population: long (nullable = true)\n",
      " |-- Org_airport_lat: string (nullable = true)\n",
      " |-- Org_airport_long: string (nullable = true)\n",
      " |-- Dest_airport_lat: string (nullable = true)\n",
      " |-- Dest_airport_long: string (nullable = true)\n",
      "\n",
      "+--------------+-------------------+-------------+----------------+----------+-----+-------+--------+----------+-----------------+----------------------+----------------+-----------------+----------------+-----------------+\n",
      "|Origin_airport|Destination_airport|  Origin_city|Destination_city|Passengers|Seats|Flights|Distance|  Fly_date|Origin_population|Destination_population| Org_airport_lat| Org_airport_long|Dest_airport_lat|Dest_airport_long|\n",
      "+--------------+-------------------+-------------+----------------+----------+-----+-------+--------+----------+-----------------+----------------------+----------------+-----------------+----------------+-----------------+\n",
      "|           MHK|                AMW|Manhattan, KS|        Ames, IA|        21|   30|      1|     254|2008-10-01|           122049|                 86219| 39.140998840332|-96.6707992553711|            NULL|             NULL|\n",
      "|           EUG|                RDM|   Eugene, OR|        Bend, OR|        41|  396|     22|     103|1990-11-01|           284093|                 76034|44.1245994567871| -123.21199798584|      44.2541008|     -121.1500015|\n",
      "|           EUG|                RDM|   Eugene, OR|        Bend, OR|        88|  342|     19|     103|1990-12-01|           284093|                 76034|44.1245994567871| -123.21199798584|      44.2541008|     -121.1500015|\n",
      "|           EUG|                RDM|   Eugene, OR|        Bend, OR|        11|   72|      4|     103|1990-10-01|           284093|                 76034|44.1245994567871| -123.21199798584|      44.2541008|     -121.1500015|\n",
      "|           MFR|                RDM|  Medford, OR|        Bend, OR|         0|   18|      1|     156|1990-02-01|           147300|                 76034|42.3741989135742|-122.873001098633|      44.2541008|     -121.1500015|\n",
      "+--------------+-------------------+-------------+----------------+----------+-----+-------+--------+----------+-----------------+----------------------+----------------+-----------------+----------------+-----------------+\n",
      "only showing top 5 rows\n",
      "\n"
     ]
    },
    {
     "name": "stderr",
     "output_type": "stream",
     "text": [
      "25/05/16 13:07:33 WARN GarbageCollectionMetrics: To enable non-built-in garbage collector(s) List(G1 Concurrent GC), users should configure it(them) to spark.eventLog.gcMetrics.youngGenerationGarbageCollectors or spark.eventLog.gcMetrics.oldGenerationGarbageCollectors\n"
     ]
    }
   ],
   "source": [
    "# import and spark session creation cell\n",
    "import sys\n",
    "sys.path.append('/home/aman/programs/gitrepos/PySpark/flight_data_analysis')\n",
    "from datalist import flights_dataset\n",
    "from pyspark.sql import SparkSession\n",
    "from pyspark.sql.types import StructType, StructField, IntegerType, StringType, DateType, LongType\n",
    "\n",
    "spark = SparkSession.builder.appName(\"DataFrame Example\").getOrCreate()\n",
    "\n",
    "schema = StructType([StructField(\"Origin_airport\",StringType(), True),\n",
    "                     StructField(\"Destination_airport\", StringType(), True),\n",
    "                     StructField(\"Origin_city\", StringType(), True),\n",
    "                     StructField(\"Destination_city\", StringType(), True),\n",
    "                     StructField(\"Passengers\", IntegerType(), True),\n",
    "                     StructField(\"Seats\", IntegerType(), True),\n",
    "                     StructField(\"Flights\", IntegerType(), True),\n",
    "                     StructField(\"Distance\", LongType(), True),\n",
    "                     StructField(\"Fly_date\", DateType(), True),\n",
    "                     StructField(\"Origin_population\", LongType(), True),\n",
    "                     StructField(\"Destination_population\", LongType(), True),\n",
    "                     StructField(\"Org_airport_lat\", StringType(), True),\n",
    "                     StructField(\"Org_airport_long\", StringType(), True),\n",
    "                     StructField(\"Dest_airport_lat\", StringType(), True),\n",
    "                     StructField(\"Dest_airport_long\", StringType(), True),\n",
    "                     \n",
    "                     ])\n",
    "\n",
    "print(flights_dataset)\n",
    "dataframe = spark.read.options(header=True, nullValue='NA').csv(flights_dataset, schema=schema)\n",
    "\n",
    "print(\"Total row count: \", dataframe.count())\n",
    "dataframe.printSchema()\n",
    "dataframe.show(5)"
   ]
  },
  {
   "cell_type": "markdown",
   "id": "0bacd897",
   "metadata": {},
   "source": [
    "## Question 1: Top 5 busiest airports by total passenger traffic\n",
    "Find the top 5 airports (considering both origin and destination) with the highest total number of passengers."
   ]
  },
  {
   "cell_type": "code",
   "execution_count": null,
   "id": "1ef6e01a",
   "metadata": {},
   "outputs": [
    {
     "name": "stderr",
     "output_type": "stream",
     "text": [
      "                                                                                \r"
     ]
    },
    {
     "name": "stdout",
     "output_type": "stream",
     "text": [
      "+-------+----------------+\n",
      "|Airport|Total_Passengers|\n",
      "+-------+----------------+\n",
      "|    ATL|      1155078415|\n",
      "|    ORD|      1057666258|\n",
      "|    DFW|       915476247|\n",
      "|    LAX|       782482278|\n",
      "|    PHX|       591438147|\n",
      "+-------+----------------+\n",
      "only showing top 5 rows\n",
      "\n"
     ]
    }
   ],
   "source": [
    "# Your solution here\n",
    "# Sol: Adding all the passengers for the same airport as origin and destination\n",
    "# and then joining the two dataframes to get the total passengers for each airport\n",
    "from pyspark.sql import functions as f\n",
    "df1 = dataframe.groupBy(\"Origin_airport\").agg(f.sum('Passengers').alias('Total_Passengers')).orderBy('Total_Passengers', ascending=False)\n",
    "df2 = dataframe.groupBy(\"Destination_airport\").agg(f.sum('Passengers').alias('Total_Passengers')).orderBy('Total_Passengers', ascending=False)\n",
    "df3 = df1.join(df2, df1.Origin_airport == df2.Destination_airport, 'inner').select((df1.Origin_airport).alias('Airport'),\n",
    "                                                                                    df1.Total_Passengers.alias('Total_Passengers_Origin'), df2.Total_Passengers.alias('Total_Passengers_Destination'))\n",
    "df3 = df3.groupBy(\"Airport\").agg((f.sum(f.col('Total_Passengers_Origin') + f.col('Total_Passengers_Destination'))).alias('Total_Passengers')).orderBy('Total_Passengers', ascending=False)\n",
    "df3.show(5)\n",
    "\n",
    "\n",
    "# The above code can be imporved by using full outer join or union all to take care\n",
    "#  of the airports which are present in either of the dataframes"
   ]
  },
  {
   "cell_type": "markdown",
   "id": "d01687cf",
   "metadata": {},
   "source": [
    "## Question 2: Monthly trend of total flights\n",
    "Calculate the total number of flights for each month across all years in the dataset. Show the results ordered by month."
   ]
  },
  {
   "cell_type": "code",
   "execution_count": null,
   "id": "8ce969a1",
   "metadata": {},
   "outputs": [
    {
     "name": "stderr",
     "output_type": "stream",
     "text": [
      "[Stage 25:>                                                       (0 + 12) / 12]\r"
     ]
    },
    {
     "name": "stdout",
     "output_type": "stream",
     "text": [
      "+----+-----+-------------+\n",
      "|Year|Month|Total_Flights|\n",
      "+----+-----+-------------+\n",
      "|1990|    1|       422366|\n",
      "|1990|    2|       379961|\n",
      "|1990|    3|       429472|\n",
      "|1990|    4|       420019|\n",
      "|1990|    5|       435517|\n",
      "|1990|    6|       426642|\n",
      "|1990|    7|       441353|\n",
      "|1990|    8|       446416|\n",
      "|1990|    9|       421588|\n",
      "|1990|   10|       442574|\n",
      "|1990|   11|       415163|\n",
      "|1990|   12|       416165|\n",
      "|1991|    1|       423954|\n",
      "|1991|    2|       372213|\n",
      "|1991|    3|       417373|\n",
      "|1991|    4|       420706|\n",
      "|1991|    5|       430957|\n",
      "|1991|    6|       426659|\n",
      "|1991|    7|       443201|\n",
      "|1991|    8|       445031|\n",
      "+----+-----+-------------+\n",
      "only showing top 20 rows\n",
      "\n"
     ]
    },
    {
     "name": "stderr",
     "output_type": "stream",
     "text": [
      "                                                                                \r"
     ]
    }
   ],
   "source": [
    "# Your solution here\n",
    "# Sol: Adding all the flights for all the months and year wrt the year and month\n",
    "# and then ordering the dataframe by year and month\n",
    "df = dataframe.select(f.year(dataframe.Fly_date).alias('Year'), f.month(dataframe.Fly_date).alias('Month'), dataframe.Flights).groupBy('Year', 'Month')\\\n",
    "    .agg(f.sum(dataframe.Flights).alias('Total_Flights')).orderBy('Year', 'Month')\n",
    "\n",
    "df.show(20)"
   ]
  },
  {
   "cell_type": "markdown",
   "id": "82b0a791",
   "metadata": {},
   "source": [
    "## Question 3: Flight routes with consistently high seat occupancy\n",
    "Identify flight routes where the average seat occupancy (Passengers / Seats) is greater than 80% across all flights."
   ]
  },
  {
   "cell_type": "code",
   "execution_count": null,
   "id": "ccc366ca",
   "metadata": {},
   "outputs": [
    {
     "name": "stderr",
     "output_type": "stream",
     "text": [
      "                                                                                \r"
     ]
    },
    {
     "name": "stdout",
     "output_type": "stream",
     "text": [
      "+--------------+-------------------+----------------------+\n",
      "|Origin_airport|Destination_airport|Average_Seat_Occupancy|\n",
      "+--------------+-------------------+----------------------+\n",
      "|           TTN|                PHL|    1.4609043715846997|\n",
      "|           RDU|                PKB|    1.0169491525423728|\n",
      "|           BNA|                ERI|                   1.0|\n",
      "|           IAD|                CPR|                   1.0|\n",
      "|           ITH|                CAK|                   1.0|\n",
      "+--------------+-------------------+----------------------+\n",
      "only showing top 5 rows\n",
      "\n"
     ]
    },
    {
     "name": "stderr",
     "output_type": "stream",
     "text": [
      "[Stage 52:========>                                                 (1 + 6) / 7]\r"
     ]
    },
    {
     "name": "stdout",
     "output_type": "stream",
     "text": [
      "+--------------+-------------------+-----------+----------------+----------+-----+-------+--------+----------+-----------------+----------------------+----------------+-----------------+----------------+-----------------+\n",
      "|Origin_airport|Destination_airport|Origin_city|Destination_city|Passengers|Seats|Flights|Distance|  Fly_date|Origin_population|Destination_population| Org_airport_lat| Org_airport_long|Dest_airport_lat|Dest_airport_long|\n",
      "+--------------+-------------------+-----------+----------------+----------+-----+-------+--------+----------+-----------------+----------------------+----------------+-----------------+----------------+-----------------+\n",
      "|           TTN|                PHL|Trenton, NJ|Philadelphia, PA|      1349|  122|      3|      37|1998-11-01|           331474|              11020546|40.2766990661621|-74.8134994506836| 39.871898651123| -75.241096496582|\n",
      "|           TTN|                PHL|Trenton, NJ|Philadelphia, PA|       107|  264|      2|      37|1998-12-01|           331474|              11020546|40.2766990661621|-74.8134994506836| 39.871898651123| -75.241096496582|\n",
      "|           TTN|                PHL|Trenton, NJ|Philadelphia, PA|        64|  132|      1|      37|1999-07-01|           333861|              11042574|40.2766990661621|-74.8134994506836| 39.871898651123| -75.241096496582|\n",
      "|           TTN|                PHL|Trenton, NJ|Philadelphia, PA|       396| 1200|     10|      37|1999-07-01|           333861|              11042574|40.2766990661621|-74.8134994506836| 39.871898651123| -75.241096496582|\n",
      "|           TTN|                PHL|Trenton, NJ|Philadelphia, PA|       182|  360|      3|      37|1999-07-01|           333861|              11042574|40.2766990661621|-74.8134994506836| 39.871898651123| -75.241096496582|\n",
      "+--------------+-------------------+-----------+----------------+----------+-----+-------+--------+----------+-----------------+----------------------+----------------+-----------------+----------------+-----------------+\n",
      "only showing top 5 rows\n",
      "\n"
     ]
    },
    {
     "name": "stderr",
     "output_type": "stream",
     "text": [
      "                                                                                \r"
     ]
    }
   ],
   "source": [
    "# Your solution here\n",
    "\n",
    "df = dataframe.groupBy('Origin_airport', 'Destination_airport').agg(f.avg(dataframe.Passengers/dataframe.Seats).alias('Average_Seat_Occupancy')).orderBy('Average_Seat_Occupancy', ascending=False)\n",
    "df.show(5)\n",
    "\n",
    "dataframe.filter((dataframe.Origin_airport == 'TTN') & (dataframe.Destination_airport == 'PHL')).show(5)\n"
   ]
  },
  {
   "cell_type": "markdown",
   "id": "85daee18",
   "metadata": {},
   "source": [
    "## Question 4: Correlation between flight distance and seat occupancy\n",
    "Analyze if there is any correlation between the flight distance and the average seat occupancy on the route."
   ]
  },
  {
   "cell_type": "code",
   "execution_count": 21,
   "id": "7754bcd7",
   "metadata": {},
   "outputs": [
    {
     "name": "stderr",
     "output_type": "stream",
     "text": [
      "[Stage 56:>                                                       (0 + 12) / 12]\r"
     ]
    },
    {
     "name": "stdout",
     "output_type": "stream",
     "text": [
      "0.12870328919786145\n"
     ]
    },
    {
     "name": "stderr",
     "output_type": "stream",
     "text": [
      "                                                                                \r"
     ]
    }
   ],
   "source": [
    "# Your solution here\n",
    "\n",
    "df = dataframe.select('Distance', (dataframe.Passengers/dataframe.Seats).alias('Seat_Occupancy'))\n",
    "print(df.corr('Distance', 'Seat_Occupancy'))"
   ]
  },
  {
   "cell_type": "markdown",
   "id": "baa31788",
   "metadata": {},
   "source": [
    "## Question 5: Identify routes with significant seasonal variation in passenger numbers\n",
    "Find routes where the number of passengers varies significantly between different quarters of the year."
   ]
  },
  {
   "cell_type": "code",
   "execution_count": 24,
   "id": "a0e28a5b",
   "metadata": {},
   "outputs": [
    {
     "name": "stderr",
     "output_type": "stream",
     "text": [
      "[Stage 59:=======================>                                 (5 + 7) / 12]\r"
     ]
    },
    {
     "name": "stdout",
     "output_type": "stream",
     "text": [
      "+----+------+----------------+\n",
      "|Year|Season|Total_Passengers|\n",
      "+----+------+----------------+\n",
      "|1990|  Fall|        89382468|\n",
      "|1990|Spring|        95329293|\n",
      "|1990|Summer|       102008395|\n",
      "|1990|Winter|        83684256|\n",
      "|1991|  Fall|        88584569|\n",
      "|1991|Spring|        92339403|\n",
      "|1991|Summer|       101309461|\n",
      "|1991|Winter|        84456508|\n",
      "|1992|  Fall|        93555501|\n",
      "|1992|Spring|        91795851|\n",
      "|1992|Summer|       114822083|\n",
      "|1992|Winter|        83149867|\n",
      "|1993|  Fall|        99295350|\n",
      "|1993|Spring|        97652028|\n",
      "|1993|Summer|       107310412|\n",
      "|1993|Winter|        86838751|\n",
      "|1994|  Fall|       107818148|\n",
      "|1994|Spring|       106991375|\n",
      "|1994|Summer|       117574177|\n",
      "|1994|Winter|        93747021|\n",
      "+----+------+----------------+\n",
      "only showing top 20 rows\n",
      "\n"
     ]
    },
    {
     "name": "stderr",
     "output_type": "stream",
     "text": [
      "                                                                                \r"
     ]
    }
   ],
   "source": [
    "# Your solution here\n",
    "from pyspark.sql.functions import month, when\n",
    "\n",
    "df = dataframe.withColumn(\"Season\", \n",
    "    when((month(\"Fly_date\") >= 3) & (month(\"Fly_date\") <= 5), \"Spring\")\n",
    "    .when((month(\"Fly_date\") >= 6) & (month(\"Fly_date\") <= 8), \"Summer\")\n",
    "    .when((month(\"Fly_date\") >= 9) & (month(\"Fly_date\") <= 11), \"Fall\")\n",
    "    .otherwise(\"Winter\")\n",
    ")\n",
    "\n",
    "df.groupBy(f.year(df.Fly_date).alias(\"Year\"), \"Season\").agg(f.sum(df.Passengers).alias(\"Total_Passengers\")).orderBy(\"Year\", \"Season\").show()\n"
   ]
  }
 ],
 "metadata": {
  "kernelspec": {
   "display_name": "Python 3 (ipykernel)",
   "language": "python",
   "name": "python3"
  },
  "language_info": {
   "codemirror_mode": {
    "name": "ipython",
    "version": 3
   },
   "file_extension": ".py",
   "mimetype": "text/x-python",
   "name": "python",
   "nbconvert_exporter": "python",
   "pygments_lexer": "ipython3",
   "version": "3.12.3"
  }
 },
 "nbformat": 4,
 "nbformat_minor": 5
}
