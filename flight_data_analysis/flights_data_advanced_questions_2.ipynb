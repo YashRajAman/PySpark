{
 "cells": [
  {
   "cell_type": "markdown",
   "metadata": {},
   "source": [
    "# Flight Data Analysis - Advanced Questions Set 2\n",
    "This notebook contains the next 25 advanced questions to further challenge your PySpark skills."
   ]
  },
  {
   "cell_type": "markdown",
   "metadata": {},
   "source": [
    "## Question 26\n",
    "Find the top 10 destination airports with the highest average delay time (assuming delay data is available)."
   ]
  },
  {
   "cell_type": "code",
   "metadata": {},
   "source": [
    "# Your solution here or explanation"
   ],
   "execution_count": null,
   "outputs": []
  },
  {
   "cell_type": "markdown",
   "metadata": {},
   "source": [
    "## Question 27\n",
    "Calculate the average number of passengers per flight for each day of the week."
   ]
  },
  {
   "cell_type": "code",
   "metadata": {},
   "source": [
    "# Your solution here"
   ],
   "execution_count": null,
   "outputs": []
  },
  {
   "cell_type": "markdown",
   "metadata": {},
   "source": [
    "## Question 28\n",
    "Identify the routes with the highest increase in average seat occupancy over the last 3 years."
   ]
  },
  {
   "cell_type": "code",
   "metadata": {},
   "source": [
    "# Your solution here"
   ],
   "execution_count": null,
   "outputs": []
  },
  {
   "cell_type": "markdown",
   "metadata": {},
   "source": [
    "## Question 29\n",
    "Find the correlation between flight distance and average delay time (assuming delay data is available)."
   ]
  },
  {
   "cell_type": "code",
   "metadata": {},
   "source": [
    "# Your solution here or explanation"
   ],
   "execution_count": null,
   "outputs": []
  },
  {
   "cell_type": "markdown",
   "metadata": {},
   "source": [
    "## Question 30\n",
    "Determine the top 5 origin airports with the most flights canceled (assuming cancellation data is available)."
   ]
  },
  {
   "cell_type": "code",
   "metadata": {},
   "source": [
    "# Your solution here or explanation"
   ],
   "execution_count": null,
   "outputs": []
  },
  {
   "cell_type": "markdown",
   "metadata": {},
   "source": [
    "## Question 31\n",
    "Calculate the average number of flights per airline per month (assuming airline data is available)."
   ]
  },
  {
   "cell_type": "code",
   "metadata": {},
   "source": [
    "# Your solution here or explanation"
   ],
   "execution_count": null,
   "outputs": []
  },
  {
   "cell_type": "markdown",
   "metadata": {},
   "source": [
    "## Question 32\n",
    "Find the routes with the longest average delay times."
   ]
  },
  {
   "cell_type": "code",
   "metadata": {},
   "source": [
    "# Your solution here or explanation"
   ],
   "execution_count": null,
   "outputs": []
  },
  {
   "cell_type": "markdown",
   "metadata": {},
   "source": [
    "## Question 33\n",
    "Identify the months with the highest average seat occupancy."
   ]
  },
  {
   "cell_type": "code",
   "metadata": {},
   "source": [
    "# Your solution here"
   ],
   "execution_count": null,
   "outputs": []
  },
  {
   "cell_type": "markdown",
   "metadata": {},
   "source": [
    "## Question 34\n",
    "Calculate the total number of passengers for flights originating from cities with a population less than 500,000."
   ]
  },
  {
   "cell_type": "code",
   "metadata": {},
   "source": [
    "# Your solution here"
   ],
   "execution_count": null,
   "outputs": []
  },
  {
   "cell_type": "markdown",
   "metadata": {},
   "source": [
    "## Question 35\n",
    "Find the average flight distance for routes with seat occupancy below 50%."
   ]
  },
  {
   "cell_type": "code",
   "metadata": {},
   "source": [
    "# Your solution here"
   ],
   "execution_count": null,
   "outputs": []
  },
  {
   "cell_type": "markdown",
   "metadata": {},
   "source": [
    "## Question 36\n",
    "Determine the top 10 routes with the highest number of flights during weekends."
   ]
  },
  {
   "cell_type": "code",
   "metadata": {},
   "source": [
    "# Your solution here"
   ],
   "execution_count": null,
   "outputs": []
  },
  {
   "cell_type": "markdown",
   "metadata": {},
   "source": [
    "## Question 37\n",
    "Calculate the average number of passengers per flight for each quarter."
   ]
  },
  {
   "cell_type": "code",
   "metadata": {},
   "source": [
    "# Your solution here"
   ],
   "execution_count": null,
   "outputs": []
  },
  {
   "cell_type": "markdown",
   "metadata": {},
   "source": [
    "## Question 38\n",
    "Find the correlation between origin city population and average delay time (assuming delay data is available)."
   ]
  },
  {
   "cell_type": "code",
   "metadata": {},
   "source": [
    "# Your solution here or explanation"
   ],
   "execution_count": null,
   "outputs": []
  },
  {
   "cell_type": "markdown",
   "metadata": {},
   "source": [
    "## Question 39\n",
    "Identify the routes with the most consistent flight distances year over year."
   ]
  },
  {
   "cell_type": "code",
   "metadata": {},
   "source": [
    "# Your solution here"
   ],
   "execution_count": null,
   "outputs": []
  },
  {
   "cell_type": "markdown",
   "metadata": {},
   "source": [
    "## Question 40\n",
    "Calculate the total number of flights delayed by more than 30 minutes (assuming delay data is available)."
   ]
  },
  {
   "cell_type": "code",
   "metadata": {},
   "source": [
    "# Your solution here or explanation"
   ],
   "execution_count": null,
   "outputs": []
  }
 ],
 "metadata": {
  "kernelspec": {
   "display_name": "Python 3",
   "language": "python",
   "name": "python3"
  },
  "language_info": {
   "name": "python",
   "version": "3.8"
  }
 },
 "nbformat": 4,
 "nbformat_minor": 5
}
