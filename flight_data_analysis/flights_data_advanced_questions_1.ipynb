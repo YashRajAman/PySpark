{
 "cells": [
  {
   "cell_type": "code",
   "execution_count": 1,
   "id": "26dec919",
   "metadata": {},
   "outputs": [
    {
     "name": "stderr",
     "output_type": "stream",
     "text": [
      "25/05/17 15:54:48 WARN Utils: Your hostname, Nothing-Is-Real resolves to a loopback address: 127.0.1.1; using 10.255.255.254 instead (on interface lo)\n",
      "25/05/17 15:54:48 WARN Utils: Set SPARK_LOCAL_IP if you need to bind to another address\n",
      "Setting default log level to \"WARN\".\n",
      "To adjust logging level use sc.setLogLevel(newLevel). For SparkR, use setLogLevel(newLevel).\n",
      "25/05/17 15:54:49 WARN NativeCodeLoader: Unable to load native-hadoop library for your platform... using builtin-java classes where applicable\n"
     ]
    },
    {
     "name": "stdout",
     "output_type": "stream",
     "text": [
      "/home/aman/datasets/Airports2.csv\n"
     ]
    },
    {
     "name": "stderr",
     "output_type": "stream",
     "text": [
      "                                                                                "
     ]
    },
    {
     "name": "stdout",
     "output_type": "stream",
     "text": [
      "Total row count:  3606803\n",
      "root\n",
      " |-- Origin_airport: string (nullable = true)\n",
      " |-- Destination_airport: string (nullable = true)\n",
      " |-- Origin_city: string (nullable = true)\n",
      " |-- Destination_city: string (nullable = true)\n",
      " |-- Passengers: integer (nullable = true)\n",
      " |-- Seats: integer (nullable = true)\n",
      " |-- Flights: integer (nullable = true)\n",
      " |-- Distance: long (nullable = true)\n",
      " |-- Fly_date: date (nullable = true)\n",
      " |-- Origin_population: long (nullable = true)\n",
      " |-- Destination_population: long (nullable = true)\n",
      " |-- Org_airport_lat: string (nullable = true)\n",
      " |-- Org_airport_long: string (nullable = true)\n",
      " |-- Dest_airport_lat: string (nullable = true)\n",
      " |-- Dest_airport_long: string (nullable = true)\n",
      "\n",
      "+--------------+-------------------+-------------+----------------+----------+-----+-------+--------+----------+-----------------+----------------------+----------------+-----------------+----------------+-----------------+\n",
      "|Origin_airport|Destination_airport|  Origin_city|Destination_city|Passengers|Seats|Flights|Distance|  Fly_date|Origin_population|Destination_population| Org_airport_lat| Org_airport_long|Dest_airport_lat|Dest_airport_long|\n",
      "+--------------+-------------------+-------------+----------------+----------+-----+-------+--------+----------+-----------------+----------------------+----------------+-----------------+----------------+-----------------+\n",
      "|           MHK|                AMW|Manhattan, KS|        Ames, IA|        21|   30|      1|     254|2008-10-01|           122049|                 86219| 39.140998840332|-96.6707992553711|            NULL|             NULL|\n",
      "|           EUG|                RDM|   Eugene, OR|        Bend, OR|        41|  396|     22|     103|1990-11-01|           284093|                 76034|44.1245994567871| -123.21199798584|      44.2541008|     -121.1500015|\n",
      "|           EUG|                RDM|   Eugene, OR|        Bend, OR|        88|  342|     19|     103|1990-12-01|           284093|                 76034|44.1245994567871| -123.21199798584|      44.2541008|     -121.1500015|\n",
      "|           EUG|                RDM|   Eugene, OR|        Bend, OR|        11|   72|      4|     103|1990-10-01|           284093|                 76034|44.1245994567871| -123.21199798584|      44.2541008|     -121.1500015|\n",
      "|           MFR|                RDM|  Medford, OR|        Bend, OR|         0|   18|      1|     156|1990-02-01|           147300|                 76034|42.3741989135742|-122.873001098633|      44.2541008|     -121.1500015|\n",
      "+--------------+-------------------+-------------+----------------+----------+-----+-------+--------+----------+-----------------+----------------------+----------------+-----------------+----------------+-----------------+\n",
      "only showing top 5 rows\n",
      "\n"
     ]
    }
   ],
   "source": [
    "# Your solution here\n",
    "# import and spark session creation cell\n",
    "import sys\n",
    "sys.path.append('/home/aman/programs/gitrepos/PySpark/flight_data_analysis')\n",
    "from datalist import flights_dataset\n",
    "from pyspark.sql import SparkSession\n",
    "from pyspark.sql.types import StructType, StructField, IntegerType, StringType, DateType, LongType\n",
    "\n",
    "spark = SparkSession.builder.appName(\"DataFrame Example\").getOrCreate()\n",
    "\n",
    "schema = StructType([StructField(\"Origin_airport\",StringType(), True),\n",
    "                     StructField(\"Destination_airport\", StringType(), True),\n",
    "                     StructField(\"Origin_city\", StringType(), True),\n",
    "                     StructField(\"Destination_city\", StringType(), True),\n",
    "                     StructField(\"Passengers\", IntegerType(), True),\n",
    "                     StructField(\"Seats\", IntegerType(), True),\n",
    "                     StructField(\"Flights\", IntegerType(), True),\n",
    "                     StructField(\"Distance\", LongType(), True),\n",
    "                     StructField(\"Fly_date\", DateType(), True),\n",
    "                     StructField(\"Origin_population\", LongType(), True),\n",
    "                     StructField(\"Destination_population\", LongType(), True),\n",
    "                     StructField(\"Org_airport_lat\", StringType(), True),\n",
    "                     StructField(\"Org_airport_long\", StringType(), True),\n",
    "                     StructField(\"Dest_airport_lat\", StringType(), True),\n",
    "                     StructField(\"Dest_airport_long\", StringType(), True),\n",
    "                     \n",
    "                     ])\n",
    "\n",
    "print(flights_dataset)\n",
    "dataframe = spark.read.options(header=True, nullValue='NA').csv(flights_dataset, schema=schema)\n",
    "\n",
    "print(\"Total row count: \", dataframe.count())\n",
    "dataframe.printSchema()\n",
    "dataframe.show(5)"
   ]
  },
  {
   "cell_type": "markdown",
   "id": "a6554d89",
   "metadata": {},
   "source": [
    "# Flight Data Analysis - Advanced Questions Set 1\n",
    "This notebook contains 25 advanced questions designed to deepen your understanding of PySpark DataFrame operations and functions."
   ]
  },
  {
   "cell_type": "markdown",
   "id": "e4c15ffc",
   "metadata": {},
   "source": [
    "## Question 1\n",
    "Find the top 10 airports with the highest average number of passengers per flight."
   ]
  },
  {
   "cell_type": "code",
   "execution_count": 10,
   "id": "23e03d5d",
   "metadata": {},
   "outputs": [
    {
     "name": "stderr",
     "output_type": "stream",
     "text": [
      "[Stage 32:====>                                                   (1 + 11) / 12]"
     ]
    },
    {
     "name": "stdout",
     "output_type": "stream",
     "text": [
      "+--------------+------------------+\n",
      "|Origin_airport|Average_Passengers|\n",
      "+--------------+------------------+\n",
      "|           NQX| 378.1904761904762|\n",
      "|           SHN|             297.0|\n",
      "|           RCA|280.40425531914894|\n",
      "|           AZA|132.12900457665904|\n",
      "|           HNL|129.30888068285006|\n",
      "+--------------+------------------+\n",
      "only showing top 5 rows\n",
      "\n"
     ]
    },
    {
     "name": "stderr",
     "output_type": "stream",
     "text": [
      "                                                                                "
     ]
    }
   ],
   "source": [
    "# Your solution here\n",
    "import pyspark.sql.functions as f\n",
    "\n",
    "\n",
    "df = dataframe.groupBy('Origin_airport').agg(f.sum('Passengers').alias('Passengers'))\n",
    "df1 = dataframe.groupBy('Destination_airport').agg(f.sum('Flights').alias('Flights'))\n",
    "\n",
    "#Taking care of flights which might only be terminals\n",
    "df2 = df.join(df1, df.Origin_airport == df1.Destination_airport, 'fullouter').groupBy('Origin_airport').agg(f.avg(f.col('Passengers') / f.col('Flights')).alias('Average_Passengers')).orderBy('Average_Passengers', ascending=False)\n",
    "\n",
    "df2.show(5)"
   ]
  },
  {
   "cell_type": "markdown",
   "id": "c8d13505",
   "metadata": {},
   "source": [
    "## Question 2\n",
    "Calculate the total number of flights and passengers for each day of the week."
   ]
  },
  {
   "cell_type": "code",
   "execution_count": 11,
   "id": "10b9a9fb",
   "metadata": {},
   "outputs": [
    {
     "name": "stderr",
     "output_type": "stream",
     "text": [
      "[Stage 40:============================>                            (6 + 6) / 12]"
     ]
    },
    {
     "name": "stdout",
     "output_type": "stream",
     "text": [
      "+----+------+---------------+------------+\n",
      "|Year|WeekNo|sum(Passengers)|sum(Flights)|\n",
      "+----+------+---------------+------------+\n",
      "|2009|    49|       42374318|      587123|\n",
      "|2009|    44|       41686490|      576901|\n",
      "|2009|    40|       45051011|      602156|\n",
      "|2009|    36|       41339351|      581047|\n",
      "|2009|    31|       48286811|      632620|\n",
      "|2009|    27|       50708453|      644983|\n",
      "|2009|    23|       47754907|      619372|\n",
      "|2009|    18|       45229482|      614442|\n",
      "|2009|    14|       44485987|      601592|\n",
      "|2009|     9|       45033607|      615601|\n",
      "+----+------+---------------+------------+\n",
      "only showing top 10 rows\n",
      "\n"
     ]
    },
    {
     "name": "stderr",
     "output_type": "stream",
     "text": [
      "                                                                                "
     ]
    }
   ],
   "source": [
    "# Your solution here\n",
    "df = dataframe.select(f.year('Fly_date').alias('Year'), f.weekofyear('Fly_date').alias('WeekNo'), 'Passengers', 'Flights').groupBy('Year', 'WeekNo').agg(f.sum('Passengers'), f.sum('Flights')).orderBy(['Year', 'WeekNo'], ascending=[0,0])\n",
    "df.show(10)\n"
   ]
  },
  {
   "cell_type": "markdown",
   "id": "042790ad",
   "metadata": {},
   "source": [
    "## Question 3\n",
    "Identify the routes where the average flight distance is greater than 1000 miles and the average seat occupancy is above 75%."
   ]
  },
  {
   "cell_type": "code",
   "execution_count": 14,
   "id": "10beffce",
   "metadata": {},
   "outputs": [
    {
     "name": "stderr",
     "output_type": "stream",
     "text": [
      "                                                                                "
     ]
    },
    {
     "name": "stdout",
     "output_type": "stream",
     "text": [
      "+--------------+-------------------+----------------+------------------+\n",
      "|Origin_airport|Destination_airport|Average_distance| Average_occupancy|\n",
      "+--------------+-------------------+----------------+------------------+\n",
      "|           MOD|                EKO|           354.0|0.8556443556443556|\n",
      "|           RAP|                RNO|           917.0|0.9199255121042831|\n",
      "|           BOS|                RNO|          2524.0|0.8174157303370787|\n",
      "|           JAN|                RNO|          1729.0|0.8545454545454545|\n",
      "|           BMI|                FAR|           594.0|0.8668341708542714|\n",
      "|           AUS|                MCN|           845.0|               1.0|\n",
      "|           YIP|                TUL|           782.0|              0.95|\n",
      "|           PNS|                TYR|           502.0|0.8481012658227848|\n",
      "|           BFI|                CVO|           215.0|0.8888888888888888|\n",
      "|           TPA|                BGR|          1385.0|0.8247011952191236|\n",
      "+--------------+-------------------+----------------+------------------+\n",
      "only showing top 10 rows\n",
      "\n"
     ]
    },
    {
     "name": "stderr",
     "output_type": "stream",
     "text": [
      "[Stage 49:==============================================>         (10 + 2) / 12]"
     ]
    },
    {
     "name": "stdout",
     "output_type": "stream",
     "text": [
      "-0.0022715273511054505\n"
     ]
    },
    {
     "name": "stderr",
     "output_type": "stream",
     "text": [
      "                                                                                "
     ]
    }
   ],
   "source": [
    "# Your solution here\n",
    "df = dataframe.groupBy(['Origin_airport', 'Destination_airport']).agg(f.avg('Distance').alias('Average_distance'), (f.sum('Passengers')/ f.sum('Seats')).alias('Average_occupancy')).filter(f.col('Average_occupancy') > 0.75)\n",
    "df.show(10)\n",
    "\n",
    "# just an observation out of curiosity\n",
    "print(df.corr('Average_distance', 'Average_occupancy'))\n",
    "\"\"\"\n",
    "It seems there is an inverse relation between the above two values with a correlation value of -0.0022715273511054505\n",
    "\"\"\""
   ]
  },
  {
   "cell_type": "markdown",
   "id": "b8b4be2d",
   "metadata": {},
   "source": [
    "## Question 4\n",
    "Find the month with the highest total number of flights for each year."
   ]
  },
  {
   "cell_type": "code",
   "execution_count": 34,
   "id": "da1ace65",
   "metadata": {
    "scrolled": true
   },
   "outputs": [
    {
     "name": "stderr",
     "output_type": "stream",
     "text": [
      "[Stage 99:===================================================>    (11 + 1) / 12]"
     ]
    },
    {
     "name": "stdout",
     "output_type": "stream",
     "text": [
      "+----+------------------+\n",
      "|Year|max(Total_flights)|\n",
      "+----+------------------+\n",
      "|2009|            644983|\n",
      "|2008|            694851|\n",
      "|2007|            717852|\n",
      "|2006|            715580|\n",
      "|2005|            746133|\n",
      "|2004|            741458|\n",
      "|2003|            703527|\n",
      "|2002|            697038|\n",
      "|2001|            618273|\n",
      "|2000|            603009|\n",
      "|1999|            574662|\n",
      "|1998|            551701|\n",
      "|1997|            534342|\n",
      "|1996|            534918|\n",
      "|1995|            541336|\n",
      "|1994|            499857|\n",
      "|1993|            474755|\n",
      "|1992|            462575|\n",
      "|1991|            445676|\n",
      "|1990|            446416|\n",
      "+----+------------------+\n",
      "\n"
     ]
    },
    {
     "name": "stderr",
     "output_type": "stream",
     "text": [
      "                                                                                "
     ]
    }
   ],
   "source": [
    "# Your solution here\n",
    "\n",
    "df = dataframe.select(f.year('Fly_date').alias('Year'), f.month('Fly_date').alias('Month'), 'Flights').groupBy('Year', 'Month').agg(f.sum('Flights').alias('Total_flights'))\n",
    "df = df.groupBy('Year').agg(f.max('Total_flights')).orderBy('Year', ascending=0)\n",
    "df.show()"
   ]
  },
  {
   "cell_type": "code",
   "execution_count": 33,
   "id": "2bc71bf1-ff7c-4e14-ba29-801f859a967a",
   "metadata": {},
   "outputs": [
    {
     "name": "stderr",
     "output_type": "stream",
     "text": [
      "[Stage 93:===================================================>    (11 + 1) / 12]"
     ]
    },
    {
     "name": "stdout",
     "output_type": "stream",
     "text": [
      "+----+-----+-------------+\n",
      "|Year|Month|Total_Flights|\n",
      "+----+-----+-------------+\n",
      "|2009|    7|       644983|\n",
      "|2008|    7|       694851|\n",
      "|2007|    8|       717852|\n",
      "|2006|    8|       715580|\n",
      "|2005|    8|       746133|\n",
      "|2004|    8|       741458|\n",
      "|2003|   10|       703527|\n",
      "|2002|   10|       697038|\n",
      "|2001|    8|       618273|\n",
      "|2000|   10|       603009|\n",
      "|1999|    8|       574662|\n",
      "|1998|    7|       551701|\n",
      "|1997|    8|       534342|\n",
      "|1996|    8|       534918|\n",
      "|1995|    8|       541336|\n",
      "|1994|    8|       499857|\n",
      "|1993|    8|       474755|\n",
      "|1992|    8|       462575|\n",
      "|1991|   10|       445676|\n",
      "|1990|    8|       446416|\n",
      "+----+-----+-------------+\n",
      "\n"
     ]
    },
    {
     "name": "stderr",
     "output_type": "stream",
     "text": [
      "                                                                                "
     ]
    }
   ],
   "source": [
    "from pyspark.sql import functions as F\n",
    "from pyspark.sql.window import Window\n",
    "\n",
    "df = dataframe.groupBy(F.year('Fly_date').alias('Year'), F.month('Fly_date').alias('Month')).agg(F.sum('Flights').alias('Total_Flights'))\n",
    "\n",
    "window_spec = Window.partitionBy('Year')\n",
    "df_with_max = df.withColumn('Max_Flights', F.max('Total_Flights').over(window_spec))\n",
    "result = df_with_max.filter(F.col('Total_Flights') == F.col('Max_Flights')).select('Year', 'Month', 'Total_Flights').orderBy('Year', ascending=0)\n",
    "result.show()"
   ]
  },
  {
   "cell_type": "markdown",
   "id": "571a5fdb",
   "metadata": {},
   "source": [
    "## Question 5\n",
    "Calculate the average delay time per airline (assuming a delay column exists). If delay data is not available, suggest how you would incorporate it."
   ]
  },
  {
   "cell_type": "code",
   "execution_count": 29,
   "id": "baa3f0bb",
   "metadata": {},
   "outputs": [
    {
     "name": "stderr",
     "output_type": "stream",
     "text": [
      "                                                                                "
     ]
    },
    {
     "name": "stdout",
     "output_type": "stream",
     "text": [
      "root\n",
      " |-- Year: integer (nullable = true)\n",
      " |-- Month: integer (nullable = true)\n",
      " |-- DayofMonth: integer (nullable = true)\n",
      " |-- DayOfWeek: integer (nullable = true)\n",
      " |-- DepTime: integer (nullable = true)\n",
      " |-- CRSDepTime: integer (nullable = true)\n",
      " |-- ArrTime: integer (nullable = true)\n",
      " |-- CRSArrTime: integer (nullable = true)\n",
      " |-- UniqueCarrier: string (nullable = true)\n",
      " |-- FlightNum: integer (nullable = true)\n",
      " |-- TailNum: string (nullable = true)\n",
      " |-- ActualElapsedTime: integer (nullable = true)\n",
      " |-- CRSElapsedTime: integer (nullable = true)\n",
      " |-- AirTime: integer (nullable = true)\n",
      " |-- ArrDelay: integer (nullable = true)\n",
      " |-- DepDelay: integer (nullable = true)\n",
      " |-- Origin: string (nullable = true)\n",
      " |-- Dest: string (nullable = true)\n",
      " |-- Distance: integer (nullable = true)\n",
      " |-- TaxiIn: integer (nullable = true)\n",
      " |-- TaxiOut: integer (nullable = true)\n",
      " |-- Cancelled: integer (nullable = true)\n",
      " |-- CancellationCode: string (nullable = true)\n",
      " |-- Diverted: integer (nullable = true)\n",
      " |-- CarrierDelay: integer (nullable = true)\n",
      " |-- WeatherDelay: integer (nullable = true)\n",
      " |-- NASDelay: integer (nullable = true)\n",
      " |-- SecurityDelay: integer (nullable = true)\n",
      " |-- LateAircraftDelay: integer (nullable = true)\n",
      "\n"
     ]
    },
    {
     "name": "stderr",
     "output_type": "stream",
     "text": [
      "[Stage 84:============================>                            (6 + 6) / 12]"
     ]
    },
    {
     "name": "stdout",
     "output_type": "stream",
     "text": [
      "+---------+--------------------------+\n",
      "|FlightNum|avg((ArrDelay + DepDelay))|\n",
      "+---------+--------------------------+\n",
      "|     1580|         60.19130434782609|\n",
      "|      463|          91.7840616966581|\n",
      "|     2366|         80.33806818181819|\n",
      "|      833|         79.92128279883381|\n",
      "|      148|          81.3467843631778|\n",
      "|     2866|        110.42817679558011|\n",
      "|     1342|          71.8340425531915|\n",
      "|      496|                   63.3584|\n",
      "|     3918|         66.28372093023256|\n",
      "|     1829|         92.67772511848341|\n",
      "|     1088|         82.71245421245422|\n",
      "|     1591|          83.6988416988417|\n",
      "|     2122|                62.7421875|\n",
      "|     1238|         93.05466970387243|\n",
      "|     3749|         69.45614035087719|\n",
      "|     7754|         67.60975609756098|\n",
      "|     2659|         68.66844919786097|\n",
      "|     2142|          98.6842105263158|\n",
      "|     7240|        105.85964912280701|\n",
      "|     7253|         134.4909090909091|\n",
      "+---------+--------------------------+\n",
      "only showing top 20 rows\n",
      "\n"
     ]
    },
    {
     "name": "stderr",
     "output_type": "stream",
     "text": [
      "                                                                                "
     ]
    }
   ],
   "source": [
    "\n",
    "#Your solution here or explanation\n",
    "\"\"\"\n",
    "delay column doesn't exists in the current data.\n",
    "To calulate the delay, we need departure time and actual departure time, also arrival time and actual arrival time\n",
    "Since none of the columns are present in the dataset we need to skip the solution for the query as it can not be calculated for the given dataset.\n",
    "\n",
    "Loading different dataset which have arrival and departure timings.\n",
    "\n",
    "Columns to be used are: ArrDelay (Arrival delay), DepDelay (Departure delay) wrt FlightNum which will be the identifier instead of airline which is not available.\n",
    "We could potentially create column airline wrt FlightNum by identifying them with their respective airline which need to be provided externally. So using FlightNum directly.\n",
    "\n",
    "\"\"\"\n",
    "import datalist\n",
    "from importlib import reload\n",
    "\n",
    "reload(datalist)\n",
    "from datalist import flight_data_2008\n",
    "\n",
    "delay_data = spark.read.options(header=True, inferschema=True, nullValue='NA').csv(flight_data_2008)\n",
    "\n",
    "delay_data.printSchema()\n",
    "\n",
    "#filtering data to exlude flights with no delays and early arrival/departure\n",
    "df = delay_data.select('FlightNum', 'ArrDelay', 'DepDelay').where((f.col('ArrDelay') > 0) & (f.col('DepDelay') > 0))\n",
    "\n",
    "df.groupBy('FlightNum').agg(f.avg(f.col('ArrDelay') + f.col('DepDelay'))).show()\n",
    "\n",
    "#although the above solution give result, it might be incorrect as both arrival delay an dep delay can be \n",
    "# completely independent and might not be accurate when tied together to create the average."
   ]
  },
  {
   "cell_type": "markdown",
   "id": "0467ee3d",
   "metadata": {},
   "source": [
    "## Question 6\n",
    "Determine the top 5 origin cities with the most diverse set of destination cities."
   ]
  },
  {
   "cell_type": "code",
   "execution_count": null,
   "id": "f733f476",
   "metadata": {},
   "outputs": [],
   "source": [
    "# Your solution here"
   ]
  },
  {
   "cell_type": "markdown",
   "id": "32af7471",
   "metadata": {},
   "source": [
    "## Question 7\n",
    "Find the correlation between the number of flights and the population of the origin city."
   ]
  },
  {
   "cell_type": "code",
   "execution_count": null,
   "id": "5dee5895",
   "metadata": {},
   "outputs": [],
   "source": [
    "# Your solution here"
   ]
  },
  {
   "cell_type": "markdown",
   "id": "5d9310de",
   "metadata": {},
   "source": [
    "## Question 8\n",
    "Identify the routes with the highest variance in passenger numbers across months."
   ]
  },
  {
   "cell_type": "code",
   "execution_count": null,
   "id": "9df1a423",
   "metadata": {},
   "outputs": [],
   "source": [
    "# Your solution here"
   ]
  },
  {
   "cell_type": "markdown",
   "id": "21177fdb",
   "metadata": {},
   "source": [
    "## Question 9\n",
    "Calculate the average number of flights per day for each airport."
   ]
  },
  {
   "cell_type": "code",
   "execution_count": null,
   "id": "ec2c4f38",
   "metadata": {},
   "outputs": [],
   "source": [
    "# Your solution here"
   ]
  },
  {
   "cell_type": "markdown",
   "id": "30ff18b6",
   "metadata": {},
   "source": [
    "## Question 10\n",
    "Find the routes where the average number of seats per flight has increased year over year."
   ]
  },
  {
   "cell_type": "code",
   "execution_count": null,
   "id": "14666892",
   "metadata": {},
   "outputs": [],
   "source": [
    "# Your solution here"
   ]
  },
  {
   "cell_type": "markdown",
   "id": "6a016c1e",
   "metadata": {},
   "source": [
    "## Question 11\n",
    "Determine the busiest hour of the day for flights (assuming a time column exists). If not, suggest how to analyze this."
   ]
  },
  {
   "cell_type": "code",
   "execution_count": null,
   "id": "c4ad5d3d",
   "metadata": {},
   "outputs": [],
   "source": [
    "# Your solution here or explanation"
   ]
  },
  {
   "cell_type": "markdown",
   "id": "9fa497a5",
   "metadata": {},
   "source": [
    "## Question 12\n",
    "Calculate the average flight distance for routes with more than 100 flights."
   ]
  },
  {
   "cell_type": "code",
   "execution_count": null,
   "id": "05d74e33",
   "metadata": {},
   "outputs": [],
   "source": [
    "# Your solution here"
   ]
  },
  {
   "cell_type": "markdown",
   "id": "2d462f46",
   "metadata": {},
   "source": [
    "## Question 13\n",
    "Find the top 5 destination cities with the highest average passenger count per flight."
   ]
  },
  {
   "cell_type": "code",
   "execution_count": null,
   "id": "9f576c35",
   "metadata": {},
   "outputs": [],
   "source": [
    "# Your solution here"
   ]
  },
  {
   "cell_type": "markdown",
   "id": "65daf61c",
   "metadata": {},
   "source": [
    "## Question 14\n",
    "Identify the routes with the longest average flight distance."
   ]
  },
  {
   "cell_type": "code",
   "execution_count": null,
   "id": "24fadefb",
   "metadata": {},
   "outputs": [],
   "source": [
    "# Your solution here"
   ]
  },
  {
   "cell_type": "markdown",
   "id": "addb9a09",
   "metadata": {},
   "source": [
    "## Question 15\n",
    "Calculate the total number of passengers for flights originating from cities with a population greater than 1 million."
   ]
  },
  {
   "cell_type": "code",
   "execution_count": null,
   "id": "6c108690",
   "metadata": {},
   "outputs": [],
   "source": [
    "# Your solution here"
   ]
  },
  {
   "cell_type": "markdown",
   "id": "11795c67",
   "metadata": {},
   "source": [
    "## Question 16\n",
    "Find the average number of flights per route for routes with more than 50 flights."
   ]
  },
  {
   "cell_type": "code",
   "execution_count": null,
   "id": "513e782c",
   "metadata": {},
   "outputs": [],
   "source": [
    "# Your solution here"
   ]
  },
  {
   "cell_type": "markdown",
   "id": "7f90e0ee",
   "metadata": {},
   "source": [
    "## Question 17\n",
    "Determine the routes with the highest average seat occupancy."
   ]
  },
  {
   "cell_type": "code",
   "execution_count": null,
   "id": "e2e58009",
   "metadata": {},
   "outputs": [],
   "source": [
    "# Your solution here"
   ]
  },
  {
   "cell_type": "markdown",
   "id": "d0ce864e",
   "metadata": {},
   "source": [
    "## Question 18\n",
    "Calculate the average delay per route (assuming delay data is available). If not, describe how you would approach this."
   ]
  },
  {
   "cell_type": "code",
   "execution_count": null,
   "id": "e2347415",
   "metadata": {},
   "outputs": [],
   "source": [
    "# Your solution here or explanation"
   ]
  },
  {
   "cell_type": "markdown",
   "id": "1d5ad33f",
   "metadata": {},
   "source": [
    "## Question 19\n",
    "Find the top 10 routes with the highest number of flights during holiday seasons (assuming holiday dates are known)."
   ]
  },
  {
   "cell_type": "code",
   "execution_count": null,
   "id": "952c6d3c",
   "metadata": {},
   "outputs": [],
   "source": [
    "# Your solution here or explanation"
   ]
  },
  {
   "cell_type": "markdown",
   "id": "cb059ac9",
   "metadata": {},
   "source": [
    "## Question 20\n",
    "Identify the routes with the most consistent passenger numbers year over year."
   ]
  },
  {
   "cell_type": "code",
   "execution_count": null,
   "id": "61e03c58",
   "metadata": {},
   "outputs": [],
   "source": [
    "# Your solution here"
   ]
  },
  {
   "cell_type": "markdown",
   "id": "86a81e24",
   "metadata": {},
   "source": [
    "## Question 21\n",
    "Calculate the average number of passengers per flight for each airline (assuming airline data is available)."
   ]
  },
  {
   "cell_type": "code",
   "execution_count": null,
   "id": "16acc03e",
   "metadata": {},
   "outputs": [],
   "source": [
    "# Your solution here or explanation"
   ]
  },
  {
   "cell_type": "markdown",
   "id": "d8c0c4e8",
   "metadata": {},
   "source": [
    "## Question 22\n",
    "Find the routes with the highest increase in passenger numbers over the last 5 years."
   ]
  },
  {
   "cell_type": "code",
   "execution_count": null,
   "id": "f6fe40a1",
   "metadata": {},
   "outputs": [],
   "source": [
    "# Your solution here"
   ]
  },
  {
   "cell_type": "markdown",
   "id": "abda51b7",
   "metadata": {},
   "source": [
    "## Question 23\n",
    "Determine the average number of seats per flight for each month."
   ]
  },
  {
   "cell_type": "code",
   "execution_count": null,
   "id": "3c263621",
   "metadata": {},
   "outputs": [],
   "source": [
    "# Your solution here"
   ]
  },
  {
   "cell_type": "markdown",
   "id": "ebe87528",
   "metadata": {},
   "source": [
    "## Question 24\n",
    "Identify the top 5 origin airports with the highest average flight distance."
   ]
  },
  {
   "cell_type": "code",
   "execution_count": null,
   "id": "28351745",
   "metadata": {},
   "outputs": [],
   "source": [
    "# Your solution here"
   ]
  },
  {
   "cell_type": "markdown",
   "id": "61046995",
   "metadata": {},
   "source": [
    "## Question 25\n",
    "Calculate the total number of flights canceled (assuming cancellation data is available). If not, describe how you would track cancellations."
   ]
  },
  {
   "cell_type": "code",
   "execution_count": null,
   "id": "f8c69b76",
   "metadata": {},
   "outputs": [],
   "source": [
    "# Your solution here or explanation"
   ]
  }
 ],
 "metadata": {
  "kernelspec": {
   "display_name": "Python 3 (ipykernel)",
   "language": "python",
   "name": "python3"
  },
  "language_info": {
   "codemirror_mode": {
    "name": "ipython",
    "version": 3
   },
   "file_extension": ".py",
   "mimetype": "text/x-python",
   "name": "python",
   "nbconvert_exporter": "python",
   "pygments_lexer": "ipython3",
   "version": "3.12.3"
  }
 },
 "nbformat": 4,
 "nbformat_minor": 5
}
